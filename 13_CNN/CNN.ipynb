{
  "cells": [
    {
      "cell_type": "markdown",
      "metadata": {},
      "source": [
        "# TinyML - Convolutional Neural Networks (CNN)\n",
        "\n",
        "\n",
        "#### Federal University of Rio Grande do Norte\n",
        "\n",
        "#### Name: Thommas Kevin Sales Flores\n"
      ]
    },
    {
      "cell_type": "markdown",
      "metadata": {},
      "source": [
        "## 0. Install the libraries listed in the requirements.txt file"
      ]
    },
    {
      "cell_type": "code",
      "execution_count": 4,
      "metadata": {},
      "outputs": [],
      "source": [
        "#!pip install -r requirements.txt"
      ]
    },
    {
      "cell_type": "markdown",
      "metadata": {},
      "source": [
        "## 1. Importing libraries"
      ]
    },
    {
      "cell_type": "code",
      "execution_count": 1,
      "metadata": {},
      "outputs": [
        {
          "name": "stdout",
          "output_type": "stream",
          "text": [
            "WARNING:tensorflow:From c:\\Python39\\lib\\site-packages\\keras\\src\\losses.py:2976: The name tf.losses.sparse_softmax_cross_entropy is deprecated. Please use tf.compat.v1.losses.sparse_softmax_cross_entropy instead.\n",
            "\n"
          ]
        }
      ],
      "source": [
        "import numpy as np\n",
        "from sklearn.datasets import load_digits\n",
        "import tensorflow as tf\n",
        "from tensorflow.keras import layers\n",
        "from sklearn.metrics import accuracy_score\n",
        "from sklearn.metrics import confusion_matrix\n",
        "from matplotlib import pyplot as plt\n",
        "import time\n",
        "import seaborn as sns\n",
        "import os\n",
        "from tensorflow.keras.utils import plot_model"
      ]
    },
    {
      "cell_type": "code",
      "execution_count": 2,
      "metadata": {},
      "outputs": [
        {
          "name": "stderr",
          "output_type": "stream",
          "text": [
            "'#pip' n�o � reconhecido como um comando interno\n",
            "ou externo, um programa oper�vel ou um arquivo em lotes.\n"
          ]
        }
      ],
      "source": [
        "!#pip install keras"
      ]
    },
    {
      "cell_type": "code",
      "execution_count": 3,
      "metadata": {},
      "outputs": [
        {
          "data": {
            "text/plain": [
              "'\\nwith open(\\'requirements.txt\\', \\'w\\') as f:\\n    f.write(f\"scikit-learn=={sklearn.__version__}\\n\")\\n    f.write(f\"tensorflow=={tf.__version__}\\n\")\\n    f.write(f\"numpy=={np.__version__}\\n\")\\n    f.write(f\"matplotlib=={matplotlib.__version__}\\n\")\\n    f.write(f\"seaborn=={sns.__version__}\\n\")\\n'"
            ]
          },
          "execution_count": 3,
          "metadata": {},
          "output_type": "execute_result"
        }
      ],
      "source": [
        "'''\n",
        "with open('requirements.txt', 'w') as f:\n",
        "    f.write(f\"scikit-learn=={sklearn.__version__}\\n\")\n",
        "    f.write(f\"tensorflow=={tf.__version__}\\n\")\n",
        "    f.write(f\"numpy=={np.__version__}\\n\")\n",
        "    f.write(f\"matplotlib=={matplotlib.__version__}\\n\")\n",
        "    f.write(f\"seaborn=={sns.__version__}\\n\")\n",
        "'''"
      ]
    },
    {
      "cell_type": "markdown",
      "metadata": {},
      "source": [
        "## 2. Load Dataset"
      ]
    },
    {
      "cell_type": "markdown",
      "metadata": {},
      "source": [
        "MNIST, short for Modified National Institute of Standards and Technology database, is a widely used dataset in the field of machine learning and computer vision. It consists of a collection of handwritten digits ranging from 0 to 9, each digit being represented as a grayscale image of size 28x28 pixels. The dataset contains a total of 70,000 images, with 60,000 images used for training and 10,000 images used for testing.\n",
        "\n",
        "link: https://www.nist.gov/itl/products-and-services/emnist-dataset"
      ]
    },
    {
      "cell_type": "code",
      "execution_count": 4,
      "metadata": {},
      "outputs": [],
      "source": [
        "def get_data():\n",
        "    np.random.seed(1337)\n",
        "    x_values, y_values = load_digits(return_X_y=True)\n",
        "    x_values /= x_values.max()\n",
        "    # reshape to (8 x 8 x 1)\n",
        "    x_values = x_values.reshape((len(x_values), 8, 8, 1))\n",
        "    # split into train, validation, test\n",
        "    TRAIN_SPLIT = int(0.6 * len(x_values))\n",
        "    TEST_SPLIT = int(0.2 * len(x_values) + TRAIN_SPLIT)\n",
        "    x_train, x_test, x_validate = np.split(x_values, [TRAIN_SPLIT, TEST_SPLIT])\n",
        "    y_train, y_test, y_validate = np.split(y_values, [TRAIN_SPLIT, TEST_SPLIT])\n",
        "\n",
        "    return x_train, x_test, x_validate, y_train, y_test, y_validate"
      ]
    },
    {
      "cell_type": "markdown",
      "metadata": {},
      "source": [
        "## 3. Splitting the data"
      ]
    },
    {
      "cell_type": "code",
      "execution_count": 5,
      "metadata": {},
      "outputs": [],
      "source": [
        "X_train, X_test, X_validate, y_train, y_test, y_validate = get_data()"
      ]
    },
    {
      "cell_type": "code",
      "execution_count": 7,
      "metadata": {},
      "outputs": [
        {
          "data": {
            "text/plain": [
              "(1078,)"
            ]
          },
          "execution_count": 7,
          "metadata": {},
          "output_type": "execute_result"
        }
      ],
      "source": [
        "y_train.shape"
      ]
    },
    {
      "cell_type": "markdown",
      "metadata": {},
      "source": [
        "## 4. Exploratory Data Analysis"
      ]
    },
    {
      "cell_type": "code",
      "execution_count": 8,
      "metadata": {},
      "outputs": [
        {
          "data": {
            "image/png": "[encoded data removed]",
            "text/plain": [
              "<Figure size 1440x720 with 4 Axes>"
            ]
          },
          "metadata": {
            "needs_background": "light"
          },
          "output_type": "display_data"
        }
      ],
      "source": [
        "X_train__ = X_train.reshape(X_train.shape[0], 8, 8)\n",
        "\n",
        "fig, axis = plt.subplots(1, 4, figsize=(20, 10))\n",
        "for i, ax in enumerate(axis.flat):\n",
        "    ax.imshow(X_train__[i], cmap='binary')\n",
        "    digit = y_train[i]\n",
        "    ax.set(title = f\"Real Number is {digit}\")"
      ]
    },
    {
      "cell_type": "markdown",
      "metadata": {},
      "source": [
        "## 5. Define the model"
      ]
    },
    {
      "cell_type": "code",
      "execution_count": 9,
      "metadata": {},
      "outputs": [
        {
          "name": "stdout",
          "output_type": "stream",
          "text": [
            "WARNING:tensorflow:From c:\\Python39\\lib\\site-packages\\keras\\src\\backend.py:873: The name tf.get_default_graph is deprecated. Please use tf.compat.v1.get_default_graph instead.\n",
            "\n",
            "WARNING:tensorflow:From c:\\Python39\\lib\\site-packages\\keras\\src\\layers\\pooling\\max_pooling2d.py:161: The name tf.nn.max_pool is deprecated. Please use tf.nn.max_pool2d instead.\n",
            "\n"
          ]
        }
      ],
      "source": [
        "model = tf.keras.Sequential()\n",
        "model.add(layers.Conv2D(8, (3, 3), activation='relu', input_shape=(8, 8, 1)))\n",
        "model.add(layers.MaxPooling2D((2, 2)))\n",
        "model.add(layers.Flatten())\n",
        "model.add(layers.Dense(len(np.unique(y_train))))\n"
      ]
    },
    {
      "cell_type": "code",
      "execution_count": 10,
      "metadata": {},
      "outputs": [
        {
          "name": "stdout",
          "output_type": "stream",
          "text": [
            "Model: \"sequential\"\n",
            "_________________________________________________________________\n",
            " Layer (type)                Output Shape              Param #   \n",
            "=================================================================\n",
            " conv2d (Conv2D)             (None, 6, 6, 8)           80        \n",
            "                                                                 \n",
            " max_pooling2d (MaxPooling2  (None, 3, 3, 8)           0         \n",
            " D)                                                              \n",
            "                                                                 \n",
            " flatten (Flatten)           (None, 72)                0         \n",
            "                                                                 \n",
            " dense (Dense)               (None, 10)                730       \n",
            "                                                                 \n",
            "=================================================================\n",
            "Total params: 810 (3.16 KB)\n",
            "Trainable params: 810 (3.16 KB)\n",
            "Non-trainable params: 0 (0.00 Byte)\n",
            "_________________________________________________________________\n"
          ]
        }
      ],
      "source": [
        "model.summary()"
      ]
    },
    {
      "cell_type": "code",
      "execution_count": 11,
      "metadata": {},
      "outputs": [
        {
          "data": {
            "image/png": "[encoded data removed]",
            "text/plain": [
              "<IPython.core.display.Image object>"
            ]
          },
          "execution_count": 11,
          "metadata": {},
          "output_type": "execute_result"
        }
      ],
      "source": [
        "plot_model(model, to_file='./figures/model.png')"
      ]
    },
    {
      "cell_type": "markdown",
      "metadata": {},
      "source": [
        "## 6. Compile the model"
      ]
    },
    {
      "cell_type": "code",
      "execution_count": 12,
      "metadata": {},
      "outputs": [
        {
          "name": "stdout",
          "output_type": "stream",
          "text": [
            "WARNING:tensorflow:From c:\\Python39\\lib\\site-packages\\keras\\src\\optimizers\\__init__.py:309: The name tf.train.Optimizer is deprecated. Please use tf.compat.v1.train.Optimizer instead.\n",
            "\n"
          ]
        }
      ],
      "source": [
        "model.compile(optimizer='adam', loss=tf.keras.losses.SparseCategoricalCrossentropy(from_logits=True), metrics=['accuracy'])"
      ]
    },
    {
      "cell_type": "markdown",
      "metadata": {},
      "source": [
        "## 7. Training model"
      ]
    },
    {
      "cell_type": "code",
      "execution_count": 13,
      "metadata": {},
      "outputs": [
        {
          "name": "stdout",
          "output_type": "stream",
          "text": [
            "Epoch 1/50\n",
            "WARNING:tensorflow:From c:\\Python39\\lib\\site-packages\\keras\\src\\utils\\tf_utils.py:492: The name tf.ragged.RaggedTensorValue is deprecated. Please use tf.compat.v1.ragged.RaggedTensorValue instead.\n",
            "\n",
            "WARNING:tensorflow:From c:\\Python39\\lib\\site-packages\\keras\\src\\engine\\base_layer_utils.py:384: The name tf.executing_eagerly_outside_functions is deprecated. Please use tf.compat.v1.executing_eagerly_outside_functions instead.\n",
            "\n",
            "68/68 [==============================] - 1s 8ms/step - loss: 2.3001 - accuracy: 0.1141 - val_loss: 2.2455 - val_accuracy: 0.1583\n",
            "Epoch 2/50\n",
            "68/68 [==============================] - 0s 3ms/step - loss: 2.1916 - accuracy: 0.2755 - val_loss: 2.1236 - val_accuracy: 0.4556\n",
            "Epoch 3/50\n",
            "68/68 [==============================] - 0s 4ms/step - loss: 2.0010 - accuracy: 0.5983 - val_loss: 1.8933 - val_accuracy: 0.5750\n",
            "Epoch 4/50\n",
            "68/68 [==============================] - 0s 3ms/step - loss: 1.6870 - accuracy: 0.7495 - val_loss: 1.5811 - val_accuracy: 0.7444\n",
            "Epoch 5/50\n",
            "68/68 [==============================] - 0s 4ms/step - loss: 1.3221 - accuracy: 0.8321 - val_loss: 1.2755 - val_accuracy: 0.7889\n",
            "Epoch 6/50\n",
            "68/68 [==============================] - 0s 3ms/step - loss: 0.9938 - accuracy: 0.8831 - val_loss: 1.0332 - val_accuracy: 0.7861\n",
            "Epoch 7/50\n",
            "68/68 [==============================] - 0s 3ms/step - loss: 0.7486 - accuracy: 0.9063 - val_loss: 0.8832 - val_accuracy: 0.7889\n",
            "Epoch 8/50\n",
            "68/68 [==============================] - 0s 3ms/step - loss: 0.5887 - accuracy: 0.9221 - val_loss: 0.7705 - val_accuracy: 0.8167\n",
            "Epoch 9/50\n",
            "68/68 [==============================] - 0s 4ms/step - loss: 0.4810 - accuracy: 0.9249 - val_loss: 0.7033 - val_accuracy: 0.8333\n",
            "Epoch 10/50\n",
            "68/68 [==============================] - 0s 4ms/step - loss: 0.4072 - accuracy: 0.9378 - val_loss: 0.6570 - val_accuracy: 0.8278\n",
            "Epoch 11/50\n",
            "68/68 [==============================] - 0s 3ms/step - loss: 0.3571 - accuracy: 0.9378 - val_loss: 0.6264 - val_accuracy: 0.8361\n",
            "Epoch 12/50\n",
            "68/68 [==============================] - 0s 3ms/step - loss: 0.3146 - accuracy: 0.9388 - val_loss: 0.6024 - val_accuracy: 0.8417\n",
            "Epoch 13/50\n",
            "68/68 [==============================] - 0s 3ms/step - loss: 0.2832 - accuracy: 0.9397 - val_loss: 0.5867 - val_accuracy: 0.8472\n",
            "Epoch 14/50\n",
            "68/68 [==============================] - 0s 4ms/step - loss: 0.2613 - accuracy: 0.9481 - val_loss: 0.5709 - val_accuracy: 0.8528\n",
            "Epoch 15/50\n",
            "68/68 [==============================] - 0s 3ms/step - loss: 0.2387 - accuracy: 0.9462 - val_loss: 0.5507 - val_accuracy: 0.8639\n",
            "Epoch 16/50\n",
            "68/68 [==============================] - 0s 4ms/step - loss: 0.2197 - accuracy: 0.9499 - val_loss: 0.5480 - val_accuracy: 0.8583\n",
            "Epoch 17/50\n",
            "68/68 [==============================] - 0s 3ms/step - loss: 0.2057 - accuracy: 0.9555 - val_loss: 0.5316 - val_accuracy: 0.8639\n",
            "Epoch 18/50\n",
            "68/68 [==============================] - 0s 3ms/step - loss: 0.1916 - accuracy: 0.9610 - val_loss: 0.5240 - val_accuracy: 0.8694\n",
            "Epoch 19/50\n",
            "68/68 [==============================] - 0s 3ms/step - loss: 0.1810 - accuracy: 0.9601 - val_loss: 0.5127 - val_accuracy: 0.8722\n",
            "Epoch 20/50\n",
            "68/68 [==============================] - 0s 5ms/step - loss: 0.1703 - accuracy: 0.9610 - val_loss: 0.5093 - val_accuracy: 0.8722\n",
            "Epoch 21/50\n",
            "68/68 [==============================] - 0s 3ms/step - loss: 0.1600 - accuracy: 0.9638 - val_loss: 0.5078 - val_accuracy: 0.8778\n",
            "Epoch 22/50\n",
            "68/68 [==============================] - 0s 4ms/step - loss: 0.1523 - accuracy: 0.9638 - val_loss: 0.5091 - val_accuracy: 0.8750\n",
            "Epoch 23/50\n",
            "68/68 [==============================] - 0s 5ms/step - loss: 0.1441 - accuracy: 0.9638 - val_loss: 0.4936 - val_accuracy: 0.8806\n",
            "Epoch 24/50\n",
            "68/68 [==============================] - 0s 3ms/step - loss: 0.1381 - accuracy: 0.9712 - val_loss: 0.4911 - val_accuracy: 0.8722\n",
            "Epoch 25/50\n",
            "68/68 [==============================] - 0s 3ms/step - loss: 0.1337 - accuracy: 0.9703 - val_loss: 0.4844 - val_accuracy: 0.8806\n",
            "Epoch 26/50\n",
            "68/68 [==============================] - 0s 3ms/step - loss: 0.1256 - accuracy: 0.9685 - val_loss: 0.4868 - val_accuracy: 0.8861\n",
            "Epoch 27/50\n",
            "68/68 [==============================] - 0s 3ms/step - loss: 0.1198 - accuracy: 0.9759 - val_loss: 0.4764 - val_accuracy: 0.8861\n",
            "Epoch 28/50\n",
            "68/68 [==============================] - 0s 3ms/step - loss: 0.1180 - accuracy: 0.9731 - val_loss: 0.4754 - val_accuracy: 0.8833\n",
            "Epoch 29/50\n",
            "68/68 [==============================] - 0s 3ms/step - loss: 0.1130 - accuracy: 0.9712 - val_loss: 0.4811 - val_accuracy: 0.8833\n",
            "Epoch 30/50\n",
            "68/68 [==============================] - 0s 3ms/step - loss: 0.1066 - accuracy: 0.9740 - val_loss: 0.4741 - val_accuracy: 0.8833\n",
            "Epoch 31/50\n",
            "68/68 [==============================] - 0s 3ms/step - loss: 0.1016 - accuracy: 0.9750 - val_loss: 0.4619 - val_accuracy: 0.8861\n",
            "Epoch 32/50\n",
            "68/68 [==============================] - 0s 4ms/step - loss: 0.0987 - accuracy: 0.9796 - val_loss: 0.4719 - val_accuracy: 0.8861\n",
            "Epoch 33/50\n",
            "68/68 [==============================] - 0s 4ms/step - loss: 0.0948 - accuracy: 0.9768 - val_loss: 0.4664 - val_accuracy: 0.8861\n",
            "Epoch 34/50\n",
            "68/68 [==============================] - 0s 3ms/step - loss: 0.0931 - accuracy: 0.9796 - val_loss: 0.4604 - val_accuracy: 0.8889\n",
            "Epoch 35/50\n",
            "68/68 [==============================] - 0s 3ms/step - loss: 0.0879 - accuracy: 0.9796 - val_loss: 0.4506 - val_accuracy: 0.8861\n",
            "Epoch 36/50\n",
            "68/68 [==============================] - 0s 3ms/step - loss: 0.0869 - accuracy: 0.9805 - val_loss: 0.4541 - val_accuracy: 0.8861\n",
            "Epoch 37/50\n",
            "68/68 [==============================] - 0s 5ms/step - loss: 0.0830 - accuracy: 0.9824 - val_loss: 0.4476 - val_accuracy: 0.8889\n",
            "Epoch 38/50\n",
            "68/68 [==============================] - 0s 4ms/step - loss: 0.0817 - accuracy: 0.9833 - val_loss: 0.4638 - val_accuracy: 0.8833\n",
            "Epoch 39/50\n",
            "68/68 [==============================] - 0s 4ms/step - loss: 0.0775 - accuracy: 0.9833 - val_loss: 0.4472 - val_accuracy: 0.8861\n",
            "Epoch 40/50\n",
            "68/68 [==============================] - 0s 4ms/step - loss: 0.0743 - accuracy: 0.9842 - val_loss: 0.4426 - val_accuracy: 0.8917\n",
            "Epoch 41/50\n",
            "68/68 [==============================] - 0s 4ms/step - loss: 0.0722 - accuracy: 0.9824 - val_loss: 0.4365 - val_accuracy: 0.8917\n",
            "Epoch 42/50\n",
            "68/68 [==============================] - 0s 4ms/step - loss: 0.0696 - accuracy: 0.9861 - val_loss: 0.4575 - val_accuracy: 0.8861\n",
            "Epoch 43/50\n",
            "68/68 [==============================] - 0s 3ms/step - loss: 0.0672 - accuracy: 0.9852 - val_loss: 0.4497 - val_accuracy: 0.8861\n",
            "Epoch 44/50\n",
            "68/68 [==============================] - 0s 3ms/step - loss: 0.0652 - accuracy: 0.9870 - val_loss: 0.4434 - val_accuracy: 0.8917\n",
            "Epoch 45/50\n",
            "68/68 [==============================] - 0s 4ms/step - loss: 0.0650 - accuracy: 0.9889 - val_loss: 0.4566 - val_accuracy: 0.8861\n",
            "Epoch 46/50\n",
            "68/68 [==============================] - 0s 3ms/step - loss: 0.0619 - accuracy: 0.9879 - val_loss: 0.4411 - val_accuracy: 0.8889\n",
            "Epoch 47/50\n",
            "68/68 [==============================] - 0s 3ms/step - loss: 0.0591 - accuracy: 0.9879 - val_loss: 0.4423 - val_accuracy: 0.8889\n",
            "Epoch 48/50\n",
            "68/68 [==============================] - 0s 3ms/step - loss: 0.0569 - accuracy: 0.9898 - val_loss: 0.4399 - val_accuracy: 0.8889\n",
            "Epoch 49/50\n",
            "68/68 [==============================] - 0s 3ms/step - loss: 0.0568 - accuracy: 0.9889 - val_loss: 0.4386 - val_accuracy: 0.8917\n",
            "Epoch 50/50\n",
            "68/68 [==============================] - 0s 3ms/step - loss: 0.0546 - accuracy: 0.9889 - val_loss: 0.4364 - val_accuracy: 0.8889\n"
          ]
        }
      ],
      "source": [
        "history =  model.fit(X_train, y_train,\n",
        "                    epochs=50,\n",
        "                    batch_size=16,\n",
        "                    validation_data=(X_validate, y_validate))"
      ]
    },
    {
      "cell_type": "code",
      "execution_count": 14,
      "metadata": {},
      "outputs": [],
      "source": [
        "model.save('.\\models\\model.keras')"
      ]
    },
    {
      "cell_type": "code",
      "execution_count": 15,
      "metadata": {},
      "outputs": [
        {
          "data": {
            "image/png": "[encoded data removed]",
            "text/plain": [
              "<Figure size 432x288 with 1 Axes>"
            ]
          },
          "metadata": {
            "needs_background": "light"
          },
          "output_type": "display_data"
        }
      ],
      "source": [
        "loss = history.history['loss']\n",
        "val_loss = history.history['val_loss']\n",
        "epochs = range(1, len(loss) + 1)\n",
        "plt.plot(epochs, loss, 'r.', label='Training loss')\n",
        "plt.plot(epochs, val_loss, 'y', label='Validation loss')\n",
        "plt.title('Training and validation loss')\n",
        "plt.xlabel('Epochs')\n",
        "plt.ylabel('Loss')\n",
        "plt.grid()\n",
        "plt.legend()\n",
        "plt.savefig('.\\\\figures\\\\history_traing.png', dpi=300, bbox_inches='tight')\n",
        "plt.show()"
      ]
    },
    {
      "cell_type": "markdown",
      "metadata": {},
      "source": [
        "## 8. Model Evaluation"
      ]
    },
    {
      "cell_type": "markdown",
      "metadata": {},
      "source": [
        "### 8.1 Test Data"
      ]
    },
    {
      "cell_type": "code",
      "execution_count": 16,
      "metadata": {},
      "outputs": [],
      "source": [
        "def test_model(model, x_test, y_test):\n",
        "    x_test = (x_test / x_test.max()).reshape((len(x_test), 8, 8, 1))\n",
        "    y_pred = model.predict(x_test).argmax(axis=1)\n",
        "    print('ACCURACY', ((y_pred == y_test).sum() / len(y_test))*100, \"%\")"
      ]
    },
    {
      "cell_type": "code",
      "execution_count": 17,
      "metadata": {},
      "outputs": [
        {
          "name": "stdout",
          "output_type": "stream",
          "text": [
            "12/12 [==============================] - 0s 1ms/step\n",
            "ACCURACY 95.82172701949861 %\n"
          ]
        }
      ],
      "source": [
        "test_model(model, X_test, y_test)"
      ]
    },
    {
      "cell_type": "markdown",
      "metadata": {},
      "source": [
        "### 8.2 Confusion matrix"
      ]
    },
    {
      "cell_type": "code",
      "execution_count": 18,
      "metadata": {},
      "outputs": [
        {
          "name": "stdout",
          "output_type": "stream",
          "text": [
            "12/12 [==============================] - 0s 2ms/step\n"
          ]
        },
        {
          "data": {
            "image/png": "[encoded data removed]",
            "text/plain": [
              "<Figure size 720x720 with 1 Axes>"
            ]
          },
          "metadata": {
            "needs_background": "light"
          },
          "output_type": "display_data"
        }
      ],
      "source": [
        "fig = plt.figure(figsize=(10, 10)) # Set Figure\n",
        "\n",
        "y_pred = model.predict(X_test) # Predict class probabilities as 2 => [0.1, 0, 0.9, 0, 0, 0, 0, 0, 0, 0]\n",
        "Y_pred = np.argmax(y_pred, 1) # Decode Predicted labels\n",
        "mat = confusion_matrix(y_test, Y_pred) # Confusion matrix\n",
        "\n",
        "# Plot Confusion matrix\n",
        "sns.heatmap(mat.T, square=True, annot=True, cbar=False, cmap=plt.cm.Blues, fmt='.0f', \n",
        "            xticklabels=np.unique(y_test), yticklabels=np.unique(y_test), \n",
        "            annot_kws={\"fontsize\": 14}, linewidths=1, linecolor='white')\n",
        "\n",
        "plt.xlabel('Predicted Values', fontsize=14)\n",
        "plt.ylabel('True Values', fontsize=14)\n",
        "plt.xticks(fontsize=14)\n",
        "plt.yticks(fontsize=14)\n",
        "plt.savefig('.\\\\figures\\\\confusion_matrix.png', dpi=300, bbox_inches='tight')\n",
        "plt.show()"
      ]
    },
    {
      "cell_type": "markdown",
      "metadata": {},
      "source": [
        " ### 8.3 Prediction validation results"
      ]
    },
    {
      "cell_type": "code",
      "execution_count": 19,
      "metadata": {},
      "outputs": [
        {
          "name": "stdout",
          "output_type": "stream",
          "text": [
            "12/12 [==============================] - 0s 1ms/step\n"
          ]
        },
        {
          "data": {
            "image/png": "[encoded data removed]",
            "text/plain": [
              "<Figure size 864x1008 with 16 Axes>"
            ]
          },
          "metadata": {
            "needs_background": "light"
          },
          "output_type": "display_data"
        }
      ],
      "source": [
        "y_pred = model.predict(X_test)\n",
        "X_test__ = X_test\n",
        "\n",
        "fig, axis = plt.subplots(4, 4, figsize=(12, 14))\n",
        "for i, ax in enumerate(axis.flat):\n",
        "    ax.imshow(X_test__[i], cmap='binary')\n",
        "    ax.set(title = f\"Real Number is {y_test[i]}\\nPredict Number is {y_pred[i].argmax()}\")"
      ]
    },
    {
      "cell_type": "markdown",
      "metadata": {},
      "source": [
        "## 9. Obtaining the model to be implemented in the microcontroller"
      ]
    },
    {
      "cell_type": "markdown",
      "metadata": {},
      "source": [
        "### 9.1 Convert some hex value into an array for C programming"
      ]
    },
    {
      "cell_type": "code",
      "execution_count": 20,
      "metadata": {},
      "outputs": [],
      "source": [
        "# Function: Convert some hex value into an array for C programming\n",
        "def hex_to_c_array(hex_data, var_name):\n",
        "\n",
        "  c_str = ''\n",
        "\n",
        "  # Create header guard\n",
        "  c_str += '#ifdef __has_attribute\\n'\n",
        "  c_str += '#define HAVE_ATTRIBUTE(x) __has_attribute(x)\\n'\n",
        "  c_str += '#else\\n'\n",
        "  c_str += '#define HAVE_ATTRIBUTE(x) 0\\n'\n",
        "  c_str += '#endif\\n'\n",
        "  c_str += '#if HAVE_ATTRIBUTE(aligned) || (defined(__GNUC__) && !defined(__clang__))\\n'\n",
        "  c_str += '#define DATA_ALIGN_ATTRIBUTE __attribute__((aligned(4)))\\n'\n",
        "  c_str += '#else\\n'\n",
        "  c_str += '#define DATA_ALIGN_ATTRIBUTE\\n'\n",
        "  c_str += '#endif\\n\\n'\n",
        "\n",
        "  # Declare C variable\n",
        "  c_str += 'const unsigned char ' + var_name + '[]  DATA_ALIGN_ATTRIBUTE = {'\n",
        "  hex_array = []\n",
        "  for i, val in enumerate(hex_data) :\n",
        "\n",
        "    # Construct string from hex\n",
        "    hex_str = format(val, '#04x')\n",
        "\n",
        "    # Add formatting so each line stays within 80 characters\n",
        "    if (i + 1) < len(hex_data):\n",
        "      hex_str += ','\n",
        "    if (i + 1) % 12 == 0:\n",
        "      hex_str += '\\n '\n",
        "    hex_array.append(hex_str)\n",
        "\n",
        "  # Add closing brace\n",
        "  c_str += '\\n ' + format(' '.join(hex_array)) + '\\n};\\n\\n'\n",
        "\n",
        "  # Close out header guard\n",
        "  c_str += 'const int ' + var_name + '_len = ' + str(len(hex_data)) + ';\\n'\n",
        "\n",
        "  return c_str"
      ]
    },
    {
      "cell_type": "markdown",
      "metadata": {},
      "source": [
        "### 9.2 Convert o model to Float32 and Int8"
      ]
    },
    {
      "cell_type": "code",
      "execution_count": 21,
      "metadata": {},
      "outputs": [],
      "source": [
        "def representative_dataset():\n",
        "    for i in range(len(X_train)):\n",
        "        input_data = np.array([X_train[i]], dtype=np.float32)\n",
        "        yield [input_data]\n",
        "\n",
        "\n",
        "\n",
        "def converter_quantization_model(model, model_name):\n",
        "\n",
        "    # Convert o model to float32\n",
        "    converter_float32 = tf.lite.TFLiteConverter.from_keras_model(model)\n",
        "    converter_float32.optimizations = [tf.lite.Optimize.DEFAULT]\n",
        "    converter_float32.target_spec.supported_types = [tf.float32]\n",
        "    converter_float32._experimental_lower_tensor_list_ops = False\n",
        "    converter_float32.supported_ops = [tf.lite.OpsSet.TFLITE_BUILTINS, tf.lite.OpsSet.SELECT_TF_OPS]\n",
        "    converter_float32.representative_dataset = representative_dataset\n",
        "    tflite_model_float32 = converter_float32.convert()\n",
        "    print(tflite_model_float32)\n",
        "    with open(model_name+'_quant_float32' + '.h', 'w') as file:\n",
        "        file.write(hex_to_c_array(tflite_model_float32, model_name+'_quant_float32'))\n",
        "    with open(model_name+'_quant_float32.tflite', 'wb') as f:\n",
        "        f.write(tflite_model_float32)\n",
        "    size_model_tflite_float32 = os.path.getsize(model_name+'_quant_float32.tflite')\n",
        "    print(model_name+f'_quant_float32.tflite: {size_model_tflite_float32} Bytes')\n",
        "\n",
        "\n",
        "    # Convert o model to Int8\n",
        "    converter_int8 = tf.lite.TFLiteConverter.from_keras_model(model)\n",
        "    converter_int8.optimizations = [tf.lite.Optimize.DEFAULT]\n",
        "    converter_int8.target_spec.supported_types = [tf.int8]\n",
        "    #converter_int8._experimental_lower_tensor_list_ops = False\n",
        "    converter_int8.representative_dataset = representative_dataset\n",
        "    converter_int8.target_spec.supported_ops = [\n",
        "        tf.lite.OpsSet.TFLITE_BUILTINS_INT8,\n",
        "        tf.lite.OpsSet.SELECT_TF_OPS,\n",
        "    ]\n",
        "    converter_int8.target_spec.supported_ops = [tf.lite.OpsSet.TFLITE_BUILTINS]\n",
        "    converter_int8.target_spec.supported_ops = [tf.lite.OpsSet.TFLITE_BUILTINS_INT8]\n",
        "    converter_int8.experimental_new_converter = True\n",
        "    converter_int8.experimental_new_quantizer = True\n",
        "    converter_int8.experimental_new_calibrator = True\n",
        "    tflite_model_int8 = converter_int8.convert()\n",
        "    with open(model_name+'_quant_int8' + '.h', 'w') as file:\n",
        "        file.write(hex_to_c_array(tflite_model_int8, model_name+'_quant_int8'))\n",
        "    with open(model_name+'_quant_int8.tflite', 'wb') as f:\n",
        "        f.write(tflite_model_int8)\n",
        "    size_model_tflite_int8 = os.path.getsize(model_name+'_quant_int8.tflite')\n",
        "    print(model_name+f'_quant_int8.tflite: {size_model_tflite_int8} Bytes')\n",
        "\n",
        "    return None"
      ]
    },
    {
      "cell_type": "code",
      "execution_count": 22,
      "metadata": {},
      "outputs": [
        {
          "name": "stdout",
          "output_type": "stream",
          "text": [
            "INFO:tensorflow:Assets written to: C:\\Users\\Thommas\\AppData\\Local\\Temp\\tmp0vtkbe36\\assets\n"
          ]
        },
        {
          "name": "stderr",
          "output_type": "stream",
          "text": [
            "INFO:tensorflow:Assets written to: C:\\Users\\Thommas\\AppData\\Local\\Temp\\tmp0vtkbe36\\assets\n"
          ]
        },
        {
          "name": "stdout",
          "output_type": "stream",
          "text": [
            "b'\\x1c\\x00\\x00\\x00TFL3\\x14\\x00 \\x00\\x1c\\x00\\x18\\x00\\x14\\x00\\x10\\x00\\x0c\\x00\\x00\\x00\\x08\\x00\\x04\\x00\\x14\\x00\\x00\\x00\\x1c\\x00\\x00\\x00\\x88\\x00\\x00\\x00\\xe0\\x00\\x00\\x00\\x9c\\x0e\\x00\\x00\\xac\\x0e\\x00\\x00l\\x14\\x00\\x00\\x03\\x00\\x00\\x00\\x01\\x00\\x00\\x00\\x04\\x00\\x00\\x00\\xe2\\xf0\\xff\\xff\\x0c\\x00\\x00\\x00\\x1c\\x00\\x00\\x008\\x00\\x00\\x00\\x0f\\x00\\x00\\x00serving_default\\x00\\x01\\x00\\x00\\x00\\x04\\x00\\x00\\x00\\x94\\xff\\xff\\xff\\t\\x00\\x00\\x00\\x04\\x00\\x00\\x00\\x05\\x00\\x00\\x00dense\\x00\\x00\\x00\\x01\\x00\\x00\\x00\\x04\\x00\\x00\\x00\\x02\\xf2\\xff\\xff\\x04\\x00\\x00\\x00\\x0c\\x00\\x00\\x00conv2d_input\\x00\\x00\\x00\\x00\\x02\\x00\\x00\\x004\\x00\\x00\\x00\\x04\\x00\\x00\\x00\\xdc\\xff\\xff\\xff\\x0c\\x00\\x00\\x00\\x04\\x00\\x00\\x00\\x13\\x00\\x00\\x00CONVERSION_METADATA\\x00\\x08\\x00\\x0c\\x00\\x08\\x00\\x04\\x00\\x08\\x00\\x00\\x00\\x0b\\x00\\x00\\x00\\x04\\x00\\x00\\x00\\x13\\x00\\x00\\x00min_runtime_version\\x00\\r\\x00\\x00\\x00\\xb8\\r\\x00\\x00\\xb0\\r\\x00\\x00\\x80\\r\\x00\\x00H\\x0c\\x00\\x00\\x10\\x0c\\x00\\x00\\xf8\\x0b\\x00\\x00\\xa8\\x00\\x00\\x00\\xa0\\x00\\x00\\x00\\x98\\x00\\x00\\x00\\x90\\x00\\x00\\x00\\x88\\x00\\x00\\x00h\\x00\\x00\\x00\\x04\\x00\\x00\\x00\\xb2\\xf2\\xff\\xff\\x04\\x00\\x00\\x00T\\x00\\x00\\x00\\x0c\\x00\\x00\\x00\\x08\\x00\\x0e\\x00\\x08\\x00\\x04\\x00\\x08\\x00\\x00\\x00\\x10\\x00\\x00\\x00$\\x00\\x00\\x00\\x00\\x00\\x06\\x00\\x08\\x00\\x04\\x00\\x06\\x00\\x00\\x00\\x04\\x00\\x00\\x00\\x00\\x00\\x00\\x00\\x00\\x00\\n\\x00\\x10\\x00\\x0c\\x00\\x08\\x00\\x04\\x00\\n\\x00\\x00\\x00\\x02\\x00\\x00\\x00\\x02\\x00\\x00\\x00\\x04\\x00\\x00\\x00\\x06\\x00\\x00\\x002.15.0\\x00\\x00\\x12\\xf3\\xff\\xff\\x04\\x00\\x00\\x00\\x10\\x00\\x00\\x001.5.0\\x00\\x00\\x00\\x00\\x00\\x00\\x00\\x00\\x00\\x00\\x00\\\\\\xed\\xff\\xff`\\xed\\xff\\xffd\\xed\\xff\\xffh\\xed\\xff\\xff>\\xf3\\xff\\xff\\x04\\x00\\x00\\x00@\\x0b\\x00\\x00g+\\xbc\\xbd|\\xb8?>.s\\xba\\xbd2m\\x8b\\xbf\\xec\\xe3\\x8c\\xbe\\xf5\\xc6z\\xbd7u7\\xbf\\xf3s\\xa6\\xbeY\\x87\\x06\\xbf\\x0b\\x97\\xb9\\xbe\\x14\\xcd\\x05?\\x06P\\xe9;\\xdd\\xdd??:\\x97\\xaf=5\\xe3\\x14?\\xd6}4>\\xdc\\xa3\\x18?\\xc8\\x80\\x03>\\x96\\xff9>\\x90\\xa5\\xab\\xbezn\\xe8\\xbe\\xb6wq>\\x1c\\x1a\\x0f\\xbf\\x05\\xb2L\\xbe{\\xe1o\\xbd\\x1b\\x99\\xbf>\\x1c7v\\xbf\\xf4\\x8bB\\xbeK?\\xb0\\xbe&\\xcfR\\xbd\\x16\\xca\\r\\xbf6\\xbe\\xa7\\xbd3k`\\xbf>~\\xd3\\xbe\\xb98m\\xbe\\xf0*\\t?:#&?N\\xfd\\xae\\xbe\\x04\\xa9\\xa0>\\x8a\\r\\xbc\\xbeN\\x05\\xbe\\xbe\\x19\\xf1\\x0b\\xbe7V\\x03\\xbf>1J\\xbf\\xd9/%\\xbev\\xec\\'?Oeu\\xbf9\"\\xc6\\xbe\\x01\\x15+?j\\xe0\\xff>\\xe60F\\xbe4\\x1a\\x88\\xbf9\\x89\\xd9>\\xabF\\xeb=\\xf8\\xf65>\\x19H\\xc5>\\x1d#\\xdc>\\xbb\\xcf\\xfa=\\x8f3\\x91\\xbd\\xf7\\x01\\xc1\\xbc\\xef\\x14\\xeb\\xbe\\xab\\xef\\xe6\\xbePA\\xb6\\xbf\\xbf\\x98\\xbb\\xbd)\\xee\\xd5\\xbej\\x9f[\\xbe\\xdd\\xc1S\\xbd\\x13\\x06\\xc6\\xbe\\x93\\xf2\\xb5\\xbc\\x04\\xc0\\xb4\\xbd\\xadK\\xed<\\xb7\\'\\xfc\\xbd\\xe76\\x1e?U\\xd9\\xde\\xbe\\x11.\\x86\\xbf\\x15\\xdf\\x13>\\xfe\\xb1\\xb3=\\x85\\xc6\\xa9\\xbe\\xc47\\xce\\xbdRD7\\xbf\\x92#\\xfe\\xbeY\\xaf\\r?\\x07\\x849\\xbf$\\xac-\\xbfy\\x82\\xb8\\xbe\\x06\\x1d\\x80>4c\\xd0\\xbf\\xd5|\\x88\\xbeJ\\tu\\xbf\\xef8i\\xbezt\\x92\\xbd\\xca_\\x0f>\\xb9\\x1f\\xa1\\xbd\\xca2\\xc3\\xbe\\xb9\\x13[=1\\xc79=\\x86Qa\\xbfT\\x9d3\\xbf\\x03\\x9a\\x12>\\xa2f\\xa3\\xbd\\x02i\\x0f=\\x83\\xa7 ?RU\\x88=\\x10I\\x0e\\xbfD8\\x15\\xbe\\x02\\x02\\x1f>5\\xc5\\x19\\xbf\\xebc\\x99=\\xc3 ]\\xbeb\\xc48>\\xdc\\x18\\x81\\xbe\\xc7t\\x90>\\x80\\xef\\xdb\\xbe\\xf0\\x1a\\xc4<\\x13c\\xdc\\xbe<i\\x8e>\\xe7\\xa8\\xe0\\xbe\\xc8\\x85G\\xbf\\x8cW\\x11>\\xb6\\x13\\xed>1&E\\xbe\\xf4\\xe2\\x1e\\xbf\\xb3\\x14&\\xbeX\\xa4\\xc3\\xbd\\x9ew%>MUQ>\\xf8 v\\xbe\\xb0\\xfa\\x05\\xbf^gG\\xbd\\x8d^\\xb2>35t\\xbf\\xa4\\xb8\\xce\\xbe\\xa7\\xff\\x04=\\x80\\xdf\\xd3>\\xb7\\x97\\x07\\xbdy\\x96P\\xbe\\x11{\\xc1<\\xf12\\x82>A\\x9b\\xfb\\xbe\\xcd\\xd7\\xbd><\\xbbh\\xbfn\\x0e]\\xbf\\x85\\xa0\\xe2\\xbe\\x90\\xd6\\x89>R)\\x17\\xbf\\xd8\\xf7T\\xbe{\\xb22?\\xa4\\xa0k\\xbe\\xf6\\xb1E\\xbd\\x93\\xdb\\x15;\\x02\\xc4\\xdc>\\xe2\\x95\\xf1>=\\xda\\xf8>1\\xe3\\x89>\\xdc\\xfe\\xcb\\xbe>\\x82B\\xbf\\xaex@?L\\xb3\\xc6>\\x7fN\\x84>\\xe8\\x16#\\xbe_\\x1a\\x93\\xbe\\xbf\\xf79\\xbeT\\xd34\\xbe\\x8bRi>$B3\\xbe\\xc8\\xd8\\x06\\xbf\\x02g\\x80=\\xc2\\xd2\\x8a\\xbe\\x08\\x17\\x92\\xbd9]8\\xbf\\r\\xe4e\\xbf\\x02\\xe4\\xeb>\\xd6!0\\xbe\\xa9\\xe0\\xd6\\xbex{N>r\\x7f-\\xbe\\xaf(K\\xbe\\xe6p\\x12\\xbf>GN>\\x8a\\xad\\xc9\\xbe\\xb9\\x94\\x9a>\\xfa\\xbb\\xdc\\xbd\\xfd\\xb0|\\xbe\\x97\\xf3\\xf4\\xbe\\xe0\\xa4\\xb3\\xbe\\x95\\xd3\\x8d\\xbeIb\\x8e>\\x85\\x01g\\xbe\\x96\\xc3\\xf3>O\\x7f\\xdb\\xbe5\\x1d&?\\xd2\\xb6\\x0e=,\\x8c\\x0b\\xbf\\x83<\\x1a\\xbe\\xc9\\xfc\\x17\\xbeVx\\x1e\\xbf\\xfd\\x8c\\xfa=\\xca\\xd5u>\\xe5\\xa4\\xef\\xbd\\xd8Fp\\xbe\\xba\\xb7\\xaa=\\x00\\xd9\\x13?_\\xb7O\\xbf\\xfaa\\xbc>\\x19Ji\\xbf\\xfd\\xe5@\\xbe_\\x8d1\\xbfr\\xf0\\xbc>\\x15\\x1c\\'<\\xc6\\xe2\\x97>\\xa6\\x07\\x92=\\xbc=\\x11?\\x8a\\x98\\x87\\xbf\\xbd\\x7f8\\xbfb*\\x82\\xbfI\\xae\\x00\\xbe\\x81\\xfb\\xff\\xbe\\xdf\\x91\\x18\\xbf\\xbf\\x06*?^\\xf7U?T\\xf0\\x06\\xbe\\x92\\xe2w\\xbd\\x0e\\x93\\x14?\\xbf<_>\\xc1F\\x0f\\xbbl\\x16\\xe0\\xbe\\x86&\\xc6\\xbdAg;\\xbf ,5?0\\x0f\\x84\\xbd)\\x03\\x83>\\xb0h:\\xbeL\\xf7,>\\xa0y\\xcf\\xbb\\xee\\xea\\x94;\\x89\\xe6\\x02\\xbdn\\xdb|?_(\\t\\xbf\\x90$\\xb8>\\x9es\\xa3>Y9\\x01\\xbe\\xf5\\x16Z\\xbf){\\xc2:\\xddk\\x8e>=\\xaa\\x9d\\xbdfu\\r\\xbfQ\\xee\\xbc\\xbd\\xeb\\x12\\x08\\xbd135>\\xdd\\x88\\xc0\\xbeM\\xa5\\xe3>q\\xc5r\\xbf\\xebr5\\xbd\\x0e\\x8f\\x1d>\\xf2v\\x9e<*7\\x8a\\xbc=\\xfe-?\\x81\\t\\xb8=W\\x00#?w^\\x99>\\xd5\\x08\\x19\\xbf\\xc4\\x04(\\xbfA\\x8f\\xc5\\xbe\\x10\\x1c\\x1a=\\xa7\\xc0\\xe3>\\x0cjl>\\xc6+\\x0f>\\xebp\\xe2=\\\\d\\x89\\xbe\\x13\\xc2\\xdf\\xbe\\x81|\\xf1\\xbe\\xa9-\\xe6\\xbe\\xfa\\x88t\\xbe\\x9f\\'M\\xbe3\\x9e0?\\'\\x1a\\\\\\xbd`|\\x03\\xbe\\x7fA?\\xbe\\'\\x1d\\xb4=/\\xd5\\x81\\xbe;\\x88\\xd0>U\\xa5\\xe6=\\xc7\\xee\\x9d>\\xd6\\xb7\\x94\\xbe\\xb5\\xc17\\xbf\\xe5,c>O\\xc6\\xd6\\xbd\\x9e7\\xbb=,\\xf0\\xc0=\\x86\\xd1\\xc4\\xbe1\\xf0\\x85\\xbf8\\xcd\\x9d\\xbc\\xf3\\xd9\\x07\\xbf\\xcc\\xa9+\\xbei\\xac\\xa8\\xbf\\x89\\x08\\x10\\xbf&:\\x81\\xbdGU\\x80\\xbd\\xb7\\x9dL>R\\xe91\\xbf\\xacY\\x1f\\xbf\\x10\\x96\\xd2\\xbe\\x01x\\x84\\xbf.3\\xe9=D\\'S>\\x92\\x87\\xad\\xbe\\xeb\\xd8\\x94>v\\x19\\xb9=.\\x15\\x1f>\\x07\\x1f5\\xbfQ\\x19\\x0f\\xbf/!|\\xbe\\x99\\xcc\\xcf\\xbe\\xf5b\\x18?\\x8e\\x841>EN\\xfc\\xbed\\xa9\\xef\\xbe\\x08+6=l\\xa19\\xbf\\xf8\\xf6\\x0b?C\\xb0\\xdd>s\\xde\\x16>M\\xc8K\\xbe\\xdb]\\x94<\\x94\\x06\\x1b\\xbfT\\xe9\\xb6\\xbe\\\\\\x83\\x00\\xbf\\xf0\\x0b\\xdf>\\x96\\x06\\x99\\xbev\\x87s\\xbd\\xb7\\x99\\x8d>\\x83\\x91\\xca=\\xdf\\xf5c\\xbf\\xd7=E>G\\x87\\xee\\xbbu\\x00n>3\\xc9\\xd6\\xbe#0J\\xbeW\\xc9\\x88\\xbb\\x15\\x88\\xf9>\\x98X\\x95\\xb9\\xf0i\\x94>/\\xf9+>O\\xb4\\x94>\\x8fo\\'\\xbe\\x0e\\xeb\\x8b=\\xddW\\x1e\\xbe\\xb5\\xad\\xea\\xbe1j\\x07?ZaI>\\x92\\xff\\n?\\x05-s\\xbe\\xddM\\x1a\\xbe%\\xb8\\x80\\xbe3\\\\\\x08\\xbe--\\xd6> \\xfck?8\\xe4\\x17\\xbf\\x9b\\xd0\\x07?\\xc6o\\x10>\\xf7ow>y\\xdb\\x87>\\x15\\xaaR\\xbe\\xde\\x866\\xbf\\x981V<\\xab\\xb1\\x13>\\x06\\x8e0\\xbe\\xc8\\xc2\\xc8>\\x17\\x0e;\\xbf2s~>\\xee\\xafw\\xbeg\\xc0\\xe5>)\\xc4/\\xbfn\\xc4\\xc0\\xbe\\xa3\\x98=>z\\xe6\\xd7=\\xed\\x11\\xb7\\xbe\\xed\\xa2=\\xbf\\xf3\\x86_\\xbe\\x7f\\x8dp>\\xd0\"Q?8;T>\\xa2\\xdd\\x00?\\x88\\xf0u>Z\\x163>\\xcb\\xa3d=\\x88\\xbd(=\\x89x\\xb1\\xbd\\xa0\\x12>\\xbe1\\xe2\\xbb>\\xbeZ\\xfc>\\xf8\\xac&>\\x85\\xa9\\xd3>\\xdf\\xcb\\xce\\xbb\\xbf\\xe7\\xb4\\xbe\\xcaP\\x05?.\\xda\\xf9\\xbd,\\xc5\\x8e=\\x87\\xf5\\xf3=\\xc6y\\x1f\\xbes\\xb3Z>F\\xb8\\xa5<\\xc1\\xe2w;\\x9d\\xe4\\x00\\xbfuMb\\xbfH\\xd2\\x1a\\xbf\\xf4uL\\xbf<(A\\xbf\\x19\\x17\\xd9>nu\\x0b=Y\\x01L\\xbf-\\x9b\\xd6>6\\xa5\\x94\\xbe\\x07\\x07\\x06\\xbf\\xd3\\x10\\xcc\\xbe\\x98@\\x11=\\x8d\\xb4\\xc0\\xbe\\x1a\\xc45\\xbenK\\x02?\\xd6l\\xe4\\xbe\\xf3\\xc1\\xa4=d\\x12\\xae\\xbe\\xb4K\\xf6\\xbe\\x15V\\xb6\\xbe\\xf2o\\xc3\\xbe\\xb8U\\xa8\\xbe_\\x18K>\\x19L\\x84\\xbe\\xa4\\xd9\\x99>\\xfe\\xf9\\xc9\\xbd\\x08V\\xce>|\\xd0\\xb1=\\xfa\\xcdI\\xbcTB\\xda\\xbd\\x8f\\x1f\\xc2\\xbf\\xa7~w\\xbf\\xde1\\x07>\\xd1\\xf2B\\xbc\\xc1\\xa7\\xfc\\xbeo\\x9f\\x08\\xbf\\xaao\\xcb\\xbe\\xcdTk>\\x17\\x80\\xe0>}\\n\\xe8>\\x88\\xc7\\xd5\\xbe\\x17\\x1d\\xee\\xbe\\xbf\\xafP>\\xf5\\n5\\xbe\\xf4~\\xfb\\xbdh\\xd4\\x11\\xbf\\x0e\\x170\\xbf\\x7f\\x10\\xd3=l\\xdf\\xb6>>\\xc8\\\\\\xbf\\xbda\\xae>R\\xb9.\\xbf\\xc43\\x14\\xbdt\\x93\\xa3=S-u\\xbf\\x9fI\\x99\\xbfqd\\xb3;Cp\\t=^\\xe8K\\xbf\\x83\\x84\\x95\\xbe7\\x85\\xa0\\xbddb_>\\xcb\\x11\\xf7=\\xf6\\xbf-?\\x9c\\x85\\x84\\xbe~\\x9a\\x12\\xbff\\xdd\\xee\\xbe\\xdb\\x17\\xc4>\\xc5#j=\\x96\\xe6s=\\x02I\\xd6=\\x0e\\xc1\\x1a\\xbd\\xed\\x17X\\xbf\\xa4\\x16\\x92\\xbe\\xbf8#\\xbf\\xf7\\x8e7\\xbf\\xf98\\x13>M\\\\\\xed\\xbd\\xb1\\x8e\\x81>n\\x13\\x9f\\xbf\\x9b\\xcd\\xec=\\xe3\\x95\\xdb>\\x18p\\x9d>\\xa4b\\x87=\\xa2\\x1f\\xf9>*\\x155=\\xf3/\\xb6\\xbeg\\xd9\\x18>\\xb4e\\xf1\\xbdP\\x1b\\xc2\\xbe\\xaf\\x82\\xa2>\\t-,>w\\x18\\x03?y\\xa0B>\\xc7*O=\\xe9U\\xf2\\xbeFS\\x86\\xbf\\xc5\\xc9*?`Y\\x0f\\xbf\\x93\\xee\\t=\\xd1\\x8dI\\xbf3=?\\xbf\\x7fm\\x00?\\x0f\\x14\\xa6>\\x03\\x81\\x92>T\\xe5\\xc1=\\xc8\\x90\\x1a?\\xd5\\xa6\\'\\xbfJ\\xa5Y\\xbd!\\xdc\\xad\\xbe+j\\xa1=\\x07k\\x08\\xbe\\xe2\\xaa\\x9e>\\xc9\\x8f\\x04=5\\xf9\\t?\\xb2\\xae\\x1f\\xbe<\\xe2\\x1b\\xbfB\\xb4\\x90>C|V\\xbe5\\xf9L>\\x08\\x04\\x1a>,94>r/]\\xbd\\x89\\x10w>\\x93/\\x0e>2\\x9c\\xc9\\xbe\\x81_\\x87>\\x96\\xb3\\x1d\\xbe\\x19\\x0b\\xe4=_G3\\xbc&\\xf6\\xb5\\xbd\\x01\\xddq\\xbe&D\\x93\\xbe\\x99J\\xca\\xbe\\xd8J0\\xbec\\xfe\\xe6\\xbeOr\\xc7\\xbe\\xd5r->,\\xfc)\\xbf\\x18\\x12\\x95=\\xd1E\\xd7\\xbe\\x1ao\\x12\\xbe\\x06\\xef\\xc8\\xbd\\xbc\\t\\x17\\xbdGR\\xfe\\xber\\xb5\\xa8>\\xb6\\xef=>\\xbe!r>\\xaeu}\\xbf\\xf7\\x0e\\x99\\xbf\\xed\\xba\\xd2\\xbe?\\xba\\xa7=1\\xf9\\x80= \\x10\\x10\\xbe\\xc7CA\\xbe\\x0b1y\\xbe(\\x17B\\xbf\\xd2%\\x19\\xbc\\xccP\\xdd>\\xf7\\xa6\\xaf>\\xe4\\xb8\\xac\\xbe\\xb4\\xf5`>\\xd5\\x16\\x04?\\xb4P/>\\x91\\xb1 \\xbeAvp\\xbf0\\xde\\xd1\\xbe\\x1dTK\\xbe\\x1b\\x87N?\\xfew\\xdf\\xbe\\xba\\xe7O?\\xa5\\xb9~\\xbd\\xb7\\x86\\xcd>\\xb3\\xd0\\xb2<\\x96o\\x1e\\xbe+`+\\xbfw\\xd1\\x8f\\xbd\\xa0\\xfeO=\\xc3\\xa2M>\\x96$0>8%\\n>\\x9f\\xca\\x8d\\xbddM\\x19>U\\x94z\\xbe\\xa9\\xacl\\xbf0[w\\xbe\\x97A.\\xbf]\\xaa\\xe0=1\\xcd\\x16?\\xce\\xfcb>C\\x86\\xbe>\\xf2\\xf57\\xbe\\x9dv\\x0f\\xbf\"\\xbc\\xd8\\xbd\\x91@L\\xbcc\\x00x\\xbc\\xd244>cs\\xe8\\xbe\\xf1\\'F\\xbd\\'\\xab\\xa6\\xbd\\x02\\xd9\\xbe>*\\xe2\\x8b<\\x02\\xed\\xcd\\xbcC\\xd7W\\xbe\\xb4\\xdf\\x05?\\x0e\\x88,;SQ\\r?.\\xf7\\t\\xbf\\xfe\\xe2\\x97\\xbf\\xa1\\xa00\\xbe\\x97\\xde=\\xbf\\xbc\\xc6\\xc2\\xbc\\xa7\\xdd\\xe7>\\x9c\\xe3\\x8f\\xbc4\\x00@>V\\xc0\\xca>(\\xd6%?\\x88\\x9eX\\xbf(\\x8b\\x05?\\xd8_\\x04\\xbd1\\xc1\\x1a\\xbf`\\xc5\\x85\\xbe\\x8b\\xc4P>s\\x9c\\xcb\\xbf\\x9d(\\xb4>\\x05,\\xa0=:\\xbe\\xa2\\xbd\\x97\\x95\\x97\\xbe\\xe5\\xbe\\xc1=;7`=\\xdeto>X!+\\xbf\\x8e\\x18\\x1e=\\x16\\t\\x19\\xbf\\xa9\\x08?>n\\x83\\xd5=\\x12\\x86\\x03?\\xe6a\\x87>\\xb8\\x9c\"?\\x04\\xd4\\xfc\\xbeuC\\x89\\xbf_\\xd7f\\xbejD\\xb6=Z\\x82_=\\xcb\\xdck=wJ\\x17?\\x91*\\xdf\\xbdV`\\x90\\xbe\\t\\xc0\\x8d>\\xfa\\x9dM>T\\xbb\\xa0\\xbdY\\x0e==\\x1c\\xb6w>\\x0f\\xbd\\x0e\\xbdolh=\\x14\\x92p=\\x1a\\xad\\x0e\\xbf\\x11\\xaf4\\xbd\\xc5\\xa2\\'\\xbf:`m\\xbc\\xfeI\\xe2>\\x89\\xb4\\xa6>n\\xc0\\xee>\\x83\\x89\\xf5\\xbd\\x14\\x8f\\xb4\\xbf\\xde\\xaf\\x11>p\\xba{\\xbf\\x99\\xa3\\x02\\xbe\\xc0%F>\\x8c\\xb0\\xfe\\xbe\\xe5\\xb7\\xfa>\\xd6\\x98\\x81>\\xd6\\xd2r>\\x0cz\\x0c>[\\x0c\\x0e?\\x8b\\xb3\\x88\\xbeG\\x8d\\xdf\\xbe!U\\x88\\xbe/4\\xc7\\xbeV1\\xb1\\xbe\\xba\\xad\\x0c>\\x83\\xf2\\x15>\\xd0Q\\x05?\\xcbY\\xf3\\xbd\\xea\\xf0\\x89>\\xb8\\xb3\\x8a\\xbe\\xaf%\\xee\\xbe.4\\x02>wtM>_\\x1cW>M\\xeb\\x84\\xbd\\x05\\x95\\xa4>\\xa5\\x95y\\xbe\\xad\\xc1\\x86\\xbe\\xc5\\xc95>\\t\\x05\\xf3>aB2\\xbe\\xd3\\x7f\\xc5\\xbe-y\\xe6\\xbdb\\x0f\\x84\\xbf\\xda\\xa3\\xda\\xbe\\xc6\\x0c&\\xbf2\\xfe\\xde\\xbe\\xb6<\\xf6>\\x0c\\xaa\\xa5>\\xde\\xe2\\xf8\\xbe\\t\\xfb\\xa7>\\x01F\\xeb\\xbe\\xc9p\\x98\\xbe\\x86\\xccb\\xbd^\\xc5\\xf2\\xbd(\\xf9\\xc1\\xbeRC\\x1c>\\x9a\\x9f\\xe9\\xbd\\xf1\\xba;\\xbe`\\x80\\xd4\\xbe\\x8a\\xfe\\xff\\xff\\x04\\x00\\x00\\x00\\x08\\x00\\x00\\x00\\xff\\xff\\xff\\xffH\\x00\\x00\\x00\\x9e\\xfe\\xff\\xff\\x04\\x00\\x00\\x00(\\x00\\x00\\x00\\xbae\\xc9\\xbcKF\\x92=N\\xf4\\x85=\\xddE\\xc5<\\xa1z~\\xbc\\x95\\x07\\xa1\\xbc\\xaf\\xd5\\xca<\\x9e\\xa7A\\xbc\\xc4\\x8e\\x17\\xbd\\x88\\xe1\\xb2\\xbd\\xd2\\xfe\\xff\\xff\\x04\\x00\\x00\\x00 \\x01\\x00\\x00\\xef\\x16=?\\x9dm\\x82\\xbc\\xff\\x87_\\xbf}\\xd5&\\xbe\\x82m ?\\x15\\xa9\\xaa\\xbe\\x9f*7\\xbf/}(?97\\r?\\xa4\\xa1M?\\xe4e\\xdb=<\\xeby\\xbe\\xbe\\xd5??X\\x1c\\x83?\\xa8_\\x95\\xbe\\xdbT\\x00?g\\xd4\\x89?\\xfd\\x94&? \\x188\\xbfg\\x15\\x85>\\x15\\xf2\\x9e>\\\\\\x16\\x00\\xbd\\x1bey\\xbd\\x8d=\"?{e#?A\\xf0\\xe1\\xbe_rp\\xbf\\x1dz??\\x07\\x8d\\xaa>\\xc0\\x9a\\xea>\\x9a\\xe2(\\xbe&\\xd9\\xa0\\xbf\\xb8\\xff\\x9e\\xbf\\xe2F;?\\xd3e\\x18>\\xf67\\xb0>\\x89\\x9f[?\\x1d\\xeb\\x82\\xbe5\\xee3?\\xf67\\xe9\\xbe\\x9ee\\xa6\\xbf\\rp\\xc2>\\x82\\xd1\\x88\\xbfm\\xb04\\xbf\\xb0\\x18,=6\\xdd\\x8b\\xbd\\x1d\\xa87?\\x02\\xa3o?\\xe1\\x9d7\\xbetT_?\\x8e\\x19[?oH\\x0b\\xbf\\x19\\xae\\xcc\\xbd\\x88\\xe7a>Z+L?xh8?\\x7fU\\x83?G\\x8c\\x04>\\xf1\\x9d\\x06\\xbf\\xd8b\\x84>*FI\\xbf\\xa7<x\\xbf\\xbf\\x13+\\xbf\\x11-\\x87?E\\xa8w?Y\\x1b\\xc9\\xbe;&z?\\xd7\\xdb==\\xa3\\x1as=\\x0c\\xaf\\xfb>\\x9b\\xaa\\x90\\xbe]y\\x90>\\x00\\x00\\x06\\x00\\x08\\x00\\x04\\x00\\x06\\x00\\x00\\x00\\x04\\x00\\x00\\x00 \\x00\\x00\\x00m\\x17_=\\x9d\\xec\\t=\\xbe\\xf3\\x85>E\\xe2\\xe3>\\xca\\xffT?\\xd93\\x9f;\\xd7:!?Y\\x03\\xb9\\xbc`\\xfa\\xff\\xffd\\xfa\\xff\\xff\\x0f\\x00\\x00\\x00MLIR Converted.\\x00\\x01\\x00\\x00\\x00\\x14\\x00\\x00\\x00\\x00\\x00\\x0e\\x00\\x18\\x00\\x14\\x00\\x10\\x00\\x0c\\x00\\x08\\x00\\x04\\x00\\x0e\\x00\\x00\\x00\\x14\\x00\\x00\\x00\\x1c\\x00\\x00\\x00L\\x01\\x00\\x00P\\x01\\x00\\x00T\\x01\\x00\\x00\\x04\\x00\\x00\\x00main\\x00\\x00\\x00\\x00\\x04\\x00\\x00\\x00\\xe4\\x00\\x00\\x00\\x80\\x00\\x00\\x00H\\x00\\x00\\x00\\x04\\x00\\x00\\x00\\x9a\\xff\\xff\\xff\\x14\\x00\\x00\\x00\\x00\\x00\\x00\\x08\\x10\\x00\\x00\\x00\\x14\\x00\\x00\\x00\\x03\\x00\\x00\\x00\\xe4\\xfa\\xff\\xff\\x01\\x00\\x00\\x00\\t\\x00\\x00\\x00\\x03\\x00\\x00\\x00\\x08\\x00\\x00\\x00\\x05\\x00\\x00\\x00\\x03\\x00\\x00\\x00\\x00\\x00\\n\\x00\\x10\\x00\\x0c\\x00\\x08\\x00\\x04\\x00\\n\\x00\\x00\\x00\\x0c\\x00\\x00\\x00\\x10\\x00\\x00\\x00\\x02\\x00\\x00\\x00\\x01\\x00\\x00\\x00\\x08\\x00\\x00\\x00\\x02\\x00\\x00\\x00\\x07\\x00\\x00\\x00\\x04\\x00\\x00\\x00\\x00\\x00\\x0e\\x00\\x1a\\x00\\x14\\x00\\x10\\x00\\x0c\\x00\\x0b\\x00\\x04\\x00\\x0e\\x00\\x00\\x00$\\x00\\x00\\x00\\x00\\x00\\x00\\x054\\x00\\x00\\x008\\x00\\x00\\x00\\x01\\x00\\x00\\x00\\x00\\x00\\x0e\\x00\\x18\\x00\\x17\\x00\\x10\\x00\\x0c\\x00\\x08\\x00\\x04\\x00\\x0e\\x00\\x00\\x00\\x02\\x00\\x00\\x00\\x02\\x00\\x00\\x00\\x02\\x00\\x00\\x00\\x02\\x00\\x00\\x00\\x00\\x00\\x00\\x01\\x01\\x00\\x00\\x00\\x07\\x00\\x00\\x00\\x01\\x00\\x00\\x00\\x06\\x00\\x00\\x00\\x00\\x00\\x0e\\x00\\x14\\x00\\x00\\x00\\x10\\x00\\x0c\\x00\\x0b\\x00\\x04\\x00\\x0e\\x00\\x00\\x00\\x1c\\x00\\x00\\x00\\x00\\x00\\x00\\x01(\\x00\\x00\\x00,\\x00\\x00\\x00\\x0c\\x00\\x14\\x00\\x13\\x00\\x0c\\x00\\x08\\x00\\x07\\x00\\x0c\\x00\\x00\\x00\\x00\\x00\\x00\\x01\\x01\\x00\\x00\\x00\\x01\\x00\\x00\\x00\\x00\\x00\\x00\\x01\\x01\\x00\\x00\\x00\\x06\\x00\\x00\\x00\\x03\\x00\\x00\\x00\\x00\\x00\\x00\\x00\\x02\\x00\\x00\\x00\\x01\\x00\\x00\\x00\\x01\\x00\\x00\\x00\\t\\x00\\x00\\x00\\x01\\x00\\x00\\x00\\x00\\x00\\x00\\x00\\n\\x00\\x00\\x00\\xd0\\x03\\x00\\x00`\\x03\\x00\\x00\\xf4\\x02\\x00\\x00\\xa0\\x02\\x00\\x00T\\x02\\x00\\x00\\xf4\\x01\\x00\\x000\\x01\\x00\\x00\\xbc\\x00\\x00\\x00`\\x00\\x00\\x00\\x04\\x00\\x00\\x00n\\xfc\\xff\\xff\\x00\\x00\\x00\\x01\\x14\\x00\\x00\\x00\\x1c\\x00\\x00\\x00\\x1c\\x00\\x00\\x00\\n\\x00\\x00\\x004\\x00\\x00\\x00\\x02\\x00\\x00\\x00\\xff\\xff\\xff\\xff\\n\\x00\\x00\\x00P\\xfc\\xff\\xff\\x19\\x00\\x00\\x00StatefulPartitionedCall:0\\x00\\x00\\x00\\x02\\x00\\x00\\x00\\x01\\x00\\x00\\x00\\n\\x00\\x00\\x00\\xc6\\xfc\\xff\\xff\\x00\\x00\\x00\\x01\\x14\\x00\\x00\\x00\\x1c\\x00\\x00\\x00\\x1c\\x00\\x00\\x00\\t\\x00\\x00\\x004\\x00\\x00\\x00\\x02\\x00\\x00\\x00\\xff\\xff\\xff\\xffH\\x00\\x00\\x00\\xa8\\xfc\\xff\\xff\\x1a\\x00\\x00\\x00sequential/flatten/Reshape\\x00\\x00\\x02\\x00\\x00\\x00\\x01\\x00\\x00\\x00H\\x00\\x00\\x00\\x1e\\xfd\\xff\\xff\\x00\\x00\\x00\\x01\\x14\\x00\\x00\\x00$\\x00\\x00\\x00$\\x00\\x00\\x00\\x08\\x00\\x00\\x00D\\x00\\x00\\x00\\x04\\x00\\x00\\x00\\xff\\xff\\xff\\xff\\x03\\x00\\x00\\x00\\x03\\x00\\x00\\x00\\x08\\x00\\x00\\x00\\x08\\xfd\\xff\\xff \\x00\\x00\\x00sequential/max_pooling2d/MaxPool\\x00\\x00\\x00\\x00\\x04\\x00\\x00\\x00\\x01\\x00\\x00\\x00\\x03\\x00\\x00\\x00\\x03\\x00\\x00\\x00\\x08\\x00\\x00\\x00\\x8e\\xfd\\xff\\xff\\x00\\x00\\x00\\x01\\x14\\x00\\x00\\x00$\\x00\\x00\\x00$\\x00\\x00\\x00\\x07\\x00\\x00\\x00\\x94\\x00\\x00\\x00\\x04\\x00\\x00\\x00\\xff\\xff\\xff\\xff\\x06\\x00\\x00\\x00\\x06\\x00\\x00\\x00\\x08\\x00\\x00\\x00x\\xfd\\xff\\xffr\\x00\\x00\\x00sequential/conv2d/Relu;sequential/conv2d/BiasAdd;sequential/conv2d/Conv2D;sequential/conv2d/BiasAdd/ReadVariableOp\\x00\\x00\\x04\\x00\\x00\\x00\\x01\\x00\\x00\\x00\\x06\\x00\\x00\\x00\\x06\\x00\\x00\\x00\\x08\\x00\\x00\\x00\\xba\\xfe\\xff\\xff\\x00\\x00\\x00\\x01\\x10\\x00\\x00\\x00\\x10\\x00\\x00\\x00\\x06\\x00\\x00\\x00$\\x00\\x00\\x00 \\xfe\\xff\\xff\\x17\\x00\\x00\\x00sequential/dense/MatMul\\x00\\x02\\x00\\x00\\x00\\n\\x00\\x00\\x00H\\x00\\x00\\x00\\x00\\x00\\x16\\x00\\x1c\\x00\\x18\\x00\\x17\\x00\\x10\\x00\\x0c\\x00\\x08\\x00\\x00\\x00\\x00\\x00\\x00\\x00\\x07\\x00\\x16\\x00\\x00\\x00\\x00\\x00\\x00\\x01\\x14\\x00\\x00\\x00\\x14\\x00\\x00\\x00\\x05\\x00\\x00\\x00\\x00\\x00\\x00\\x02(\\x00\\x00\\x00\\x80\\xfe\\xff\\xff\\x18\\x00\\x00\\x00sequential/flatten/Const\\x00\\x00\\x00\\x00\\x01\\x00\\x00\\x00\\x02\\x00\\x00\\x00^\\xff\\xff\\xff\\x00\\x00\\x00\\x01\\x10\\x00\\x00\\x00\\x10\\x00\\x00\\x00\\x04\\x00\\x00\\x004\\x00\\x00\\x00\\xc4\\xfe\\xff\\xff\\'\\x00\\x00\\x00sequential/dense/BiasAdd/ReadVariableOp\\x00\\x01\\x00\\x00\\x00\\n\\x00\\x00\\x00\\xae\\xff\\xff\\xff\\x00\\x00\\x00\\x01\\x10\\x00\\x00\\x00\\x10\\x00\\x00\\x00\\x03\\x00\\x00\\x00(\\x00\\x00\\x00\\x14\\xff\\xff\\xff\\x18\\x00\\x00\\x00sequential/conv2d/Conv2D\\x00\\x00\\x00\\x00\\x04\\x00\\x00\\x00\\x08\\x00\\x00\\x00\\x03\\x00\\x00\\x00\\x03\\x00\\x00\\x00\\x01\\x00\\x00\\x00\\x00\\x00\\x16\\x00\\x18\\x00\\x14\\x00\\x00\\x00\\x10\\x00\\x0c\\x00\\x08\\x00\\x00\\x00\\x00\\x00\\x00\\x00\\x07\\x00\\x16\\x00\\x00\\x00\\x00\\x00\\x00\\x01\\x10\\x00\\x00\\x00\\x10\\x00\\x00\\x00\\x02\\x00\\x00\\x008\\x00\\x00\\x00|\\xff\\xff\\xff(\\x00\\x00\\x00sequential/conv2d/BiasAdd/ReadVariableOp\\x00\\x00\\x00\\x00\\x01\\x00\\x00\\x00\\x08\\x00\\x00\\x00\\x00\\x00\\x16\\x00\\x1c\\x00\\x18\\x00\\x00\\x00\\x14\\x00\\x10\\x00\\x0c\\x00\\x00\\x00\\x00\\x00\\x08\\x00\\x07\\x00\\x16\\x00\\x00\\x00\\x00\\x00\\x00\\x01\\x14\\x00\\x00\\x00(\\x00\\x00\\x00(\\x00\\x00\\x00\\x01\\x00\\x00\\x00D\\x00\\x00\\x00\\x04\\x00\\x00\\x00\\xff\\xff\\xff\\xff\\x08\\x00\\x00\\x00\\x08\\x00\\x00\\x00\\x01\\x00\\x00\\x00\\x04\\x00\\x04\\x00\\x04\\x00\\x00\\x00\\x1e\\x00\\x00\\x00serving_default_conv2d_input:0\\x00\\x00\\x04\\x00\\x00\\x00\\x01\\x00\\x00\\x00\\x08\\x00\\x00\\x00\\x08\\x00\\x00\\x00\\x01\\x00\\x00\\x00\\x04\\x00\\x00\\x00@\\x00\\x00\\x00$\\x00\\x00\\x00\\x14\\x00\\x00\\x00\\x04\\x00\\x00\\x00\\xdc\\xff\\xff\\xff\\t\\x00\\x00\\x00\\x00\\x00\\x00\\t\\xe8\\xff\\xff\\xff\\x16\\x00\\x00\\x00\\x00\\x00\\x00\\x16\\xf4\\xff\\xff\\xff\\x11\\x00\\x00\\x00\\x00\\x00\\x00\\x11\\x0c\\x00\\x0c\\x00\\x0b\\x00\\x00\\x00\\x00\\x00\\x04\\x00\\x0c\\x00\\x00\\x00\\x03\\x00\\x00\\x00\\x00\\x00\\x00\\x03'\n",
            ".\\models\\model_quant_float32.tflite: 5360 Bytes\n",
            "INFO:tensorflow:Assets written to: C:\\Users\\Thommas\\AppData\\Local\\Temp\\tmp3015q2tr\\assets\n"
          ]
        },
        {
          "name": "stderr",
          "output_type": "stream",
          "text": [
            "INFO:tensorflow:Assets written to: C:\\Users\\Thommas\\AppData\\Local\\Temp\\tmp3015q2tr\\assets\n"
          ]
        },
        {
          "name": "stdout",
          "output_type": "stream",
          "text": [
            ".\\models\\model_quant_int8.tflite: 3800 Bytes\n"
          ]
        },
        {
          "name": "stderr",
          "output_type": "stream",
          "text": [
            "c:\\Python39\\lib\\site-packages\\tensorflow\\lite\\python\\convert.py:953: UserWarning: Statistics for quantized inputs were expected, but not specified; continuing anyway.\n",
            "  warnings.warn(\n"
          ]
        }
      ],
      "source": [
        "model_name='.\\models\\model'\n",
        "converter_quantization_model(model, model_name)"
      ]
    },
    {
      "cell_type": "markdown",
      "metadata": {},
      "source": [
        "## 10. Quantized Model Evaluation"
      ]
    },
    {
      "cell_type": "code",
      "execution_count": 23,
      "metadata": {},
      "outputs": [],
      "source": [
        "def evaluate_quantization(model_path, X_test, y_test, quantization_type):\n",
        "    interpreter = tf.lite.Interpreter(model_path=model_path)\n",
        "    interpreter.allocate_tensors()\n",
        "\n",
        "    # Avaliar o modelo quantizado\n",
        "    input_index = interpreter.get_input_details()[0]['index']\n",
        "    output_index = interpreter.get_output_details()[0]['index']\n",
        "    predictions = []\n",
        "    processing_times = []\n",
        "\n",
        "    X_test = np.array(X_test, dtype=np.float32)\n",
        "    \n",
        "    for X in X_test:\n",
        "        interpreter.set_tensor(input_index, [X])       \n",
        "        start_time = time.time()\n",
        "        interpreter.invoke()\n",
        "        end_time = time.time()\n",
        "        processing_time = end_time - start_time\n",
        "        processing_times.append(processing_time)\n",
        "        output = interpreter.get_tensor(output_index).argmax(axis=1)\n",
        "        predictions.append(output[0])\n",
        "\n",
        "    acc = accuracy_score(y_test, predictions)\n",
        "   \n",
        "    # Calcular a média e o desvio padrão das diferenças\n",
        "    result = { \"Accuracy (%): \":acc*100,\n",
        "                \"Process time (s): \": np.mean(processing_times)\n",
        "            }\n",
        "\n",
        "    return result"
      ]
    },
    {
      "cell_type": "code",
      "execution_count": 24,
      "metadata": {},
      "outputs": [],
      "source": [
        "model_name = '.\\models\\model'"
      ]
    },
    {
      "cell_type": "code",
      "execution_count": 25,
      "metadata": {},
      "outputs": [
        {
          "data": {
            "text/plain": [
              "{'Accuracy (%): ': 95.82172701949861,\n",
              " 'Process time (s): ': 1.4042123778616817e-05}"
            ]
          },
          "execution_count": 25,
          "metadata": {},
          "output_type": "execute_result"
        }
      ],
      "source": [
        "eval_quant_float32 = evaluate_quantization(model_name + '_quant_float32.tflite', X_test, y_test, 'float32')\n",
        "eval_quant_float32\n"
      ]
    },
    {
      "cell_type": "code",
      "execution_count": 26,
      "metadata": {},
      "outputs": [
        {
          "data": {
            "text/plain": [
              "{'Accuracy (%): ': 95.82172701949861, 'Process time (s): ': 0.0}"
            ]
          },
          "execution_count": 26,
          "metadata": {},
          "output_type": "execute_result"
        }
      ],
      "source": [
        "eval_quant_int8 = evaluate_quantization(model_name + '_quant_int8.tflite', X_test, y_test, 'int8')\n",
        "eval_quant_int8 "
      ]
    }
  ],
  "metadata": {
    "accelerator": "GPU",
    "colab": {
      "collapsed_sections": [],
      "provenance": []
    },
    "gpuClass": "standard",
    "kernelspec": {
      "display_name": "Python 3",
      "name": "python3"
    },
    "language_info": {
      "codemirror_mode": {
        "name": "ipython",
        "version": 3
      },
      "file_extension": ".py",
      "mimetype": "text/x-python",
      "name": "python",
      "nbconvert_exporter": "python",
      "pygments_lexer": "ipython3",
      "version": "3.9.6"
    }
  },
  "nbformat": 4,
  "nbformat_minor": 0
}
