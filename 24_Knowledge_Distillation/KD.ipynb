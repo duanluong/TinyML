{
 "cells": [
  {
   "cell_type": "markdown",
   "metadata": {},
   "source": [
    "# TinyML - Knowledge Distillation (KD)\n",
    "\n",
    "\n",
    "#### Federal University of Rio Grande do Norte\n",
    "\n",
    "#### Name: Thommas Kevin Sales Flores\n"
   ]
  },
  {
   "cell_type": "markdown",
   "metadata": {},
   "source": [
    "## 0. Install the libraries listed in the requirements.txt file"
   ]
  },
  {
   "cell_type": "code",
   "execution_count": 1,
   "metadata": {},
   "outputs": [],
   "source": [
    "#!pip install -r requirements.txt"
   ]
  },
  {
   "cell_type": "markdown",
   "metadata": {},
   "source": [
    "## 1. Importing libraries"
   ]
  },
  {
   "cell_type": "code",
   "execution_count": 2,
   "metadata": {},
   "outputs": [
    {
     "name": "stdout",
     "output_type": "stream",
     "text": [
      "WARNING:tensorflow:From c:\\Python39\\lib\\site-packages\\keras\\src\\losses.py:2976: The name tf.losses.sparse_softmax_cross_entropy is deprecated. Please use tf.compat.v1.losses.sparse_softmax_cross_entropy instead.\n",
      "\n"
     ]
    }
   ],
   "source": [
    "import os\n",
    "import time\n",
    "import numpy as np\n",
    "import tensorflow as tf\n",
    "from tensorflow.keras import layers, models\n",
    "from matplotlib import pyplot as plt\n",
    "from sklearn.metrics import accuracy_score\n",
    "\n",
    "# Apply ggplot style\n",
    "plt.style.use('ggplot')"
   ]
  },
  {
   "cell_type": "markdown",
   "metadata": {},
   "source": [
    "## 2. Load Dataset"
   ]
  },
  {
   "cell_type": "markdown",
   "metadata": {},
   "source": [
    "MNIST, short for Modified National Institute of Standards and Technology database, is a widely used dataset in the field of machine learning and computer vision. It consists of a collection of handwritten digits ranging from 0 to 9, each digit being represented as a grayscale image of size 28x28 pixels. The dataset contains a total of 70,000 images, with 60,000 images used for training and 10,000 images used for testing.\n",
    "\n",
    "link: https://www.nist.gov/itl/products-and-services/emnist-dataset"
   ]
  },
  {
   "cell_type": "code",
   "execution_count": 3,
   "metadata": {},
   "outputs": [],
   "source": [
    "(train_images, train_labels), (test_images, test_labels) = tf.keras.datasets.mnist.load_data()\n"
   ]
  },
  {
   "cell_type": "markdown",
   "metadata": {},
   "source": [
    "## 3. Splitting the data"
   ]
  },
  {
   "cell_type": "code",
   "execution_count": 4,
   "metadata": {},
   "outputs": [],
   "source": [
    "train_images = train_images.reshape((-1, 28, 28, 1)).astype('float32') / 255.0\n",
    "test_images = test_images.reshape((-1, 28, 28, 1)).astype('float32') / 255.0"
   ]
  },
  {
   "cell_type": "markdown",
   "metadata": {},
   "source": [
    "## 4. Exploratory Data Analysis"
   ]
  },
  {
   "cell_type": "code",
   "execution_count": 5,
   "metadata": {},
   "outputs": [
    {
     "data": {
      "image/png": "[encoded data removed]",
      "text/plain": [
       "<Figure size 1440x720 with 4 Axes>"
      ]
     },
     "metadata": {
      "needs_background": "light"
     },
     "output_type": "display_data"
    }
   ],
   "source": [
    "fig, axis = plt.subplots(1, 4, figsize=(20, 10))\n",
    "for i, ax in enumerate(axis.flat):\n",
    "    ax.imshow(train_images[i], cmap='binary')\n",
    "    digit = train_labels[i]\n",
    "    ax.set(title = f\"Real Number is {digit}\")"
   ]
  },
  {
   "cell_type": "markdown",
   "metadata": {},
   "source": [
    "## 5. Define the models"
   ]
  },
  {
   "cell_type": "markdown",
   "metadata": {},
   "source": [
    "### 5.1 Teacher Model (larger)"
   ]
  },
  {
   "cell_type": "code",
   "execution_count": 6,
   "metadata": {},
   "outputs": [],
   "source": [
    "def create_teacher_model():\n",
    "    model = models.Sequential([\n",
    "        layers.InputLayer(input_shape=(28, 28, 1)),\n",
    "        layers.Conv2D(32, (3, 3), activation='relu'),\n",
    "        layers.MaxPooling2D(),\n",
    "        layers.Conv2D(64, (3, 3), activation='relu'),\n",
    "        layers.MaxPooling2D(),\n",
    "        layers.Flatten(),\n",
    "        layers.Dense(128, activation='relu'),\n",
    "        layers.Dense(10)\n",
    "    ])\n",
    "    return model"
   ]
  },
  {
   "cell_type": "code",
   "execution_count": 7,
   "metadata": {},
   "outputs": [
    {
     "name": "stdout",
     "output_type": "stream",
     "text": [
      "WARNING:tensorflow:From c:\\Python39\\lib\\site-packages\\keras\\src\\backend.py:1398: The name tf.executing_eagerly_outside_functions is deprecated. Please use tf.compat.v1.executing_eagerly_outside_functions instead.\n",
      "\n",
      "WARNING:tensorflow:From c:\\Python39\\lib\\site-packages\\keras\\src\\layers\\pooling\\max_pooling2d.py:161: The name tf.nn.max_pool is deprecated. Please use tf.nn.max_pool2d instead.\n",
      "\n"
     ]
    }
   ],
   "source": [
    "teacher_model = create_teacher_model()"
   ]
  },
  {
   "cell_type": "code",
   "execution_count": 8,
   "metadata": {},
   "outputs": [
    {
     "name": "stdout",
     "output_type": "stream",
     "text": [
      "Model: \"sequential\"\n",
      "_________________________________________________________________\n",
      " Layer (type)                Output Shape              Param #   \n",
      "=================================================================\n",
      " conv2d (Conv2D)             (None, 26, 26, 32)        320       \n",
      "                                                                 \n",
      " max_pooling2d (MaxPooling2  (None, 13, 13, 32)        0         \n",
      " D)                                                              \n",
      "                                                                 \n",
      " conv2d_1 (Conv2D)           (None, 11, 11, 64)        18496     \n",
      "                                                                 \n",
      " max_pooling2d_1 (MaxPoolin  (None, 5, 5, 64)          0         \n",
      " g2D)                                                            \n",
      "                                                                 \n",
      " flatten (Flatten)           (None, 1600)              0         \n",
      "                                                                 \n",
      " dense (Dense)               (None, 128)               204928    \n",
      "                                                                 \n",
      " dense_1 (Dense)             (None, 10)                1290      \n",
      "                                                                 \n",
      "=================================================================\n",
      "Total params: 225034 (879.04 KB)\n",
      "Trainable params: 225034 (879.04 KB)\n",
      "Non-trainable params: 0 (0.00 Byte)\n",
      "_________________________________________________________________\n"
     ]
    }
   ],
   "source": [
    "teacher_model.summary()"
   ]
  },
  {
   "cell_type": "markdown",
   "metadata": {},
   "source": [
    "### 5.2 Student Model (smaller)"
   ]
  },
  {
   "cell_type": "code",
   "execution_count": 9,
   "metadata": {},
   "outputs": [],
   "source": [
    "def create_student_model():\n",
    "    model = models.Sequential([\n",
    "        layers.InputLayer(input_shape=(28, 28, 1)),\n",
    "        layers.Conv2D(8, (3, 3), activation='relu'),\n",
    "        layers.MaxPooling2D(),\n",
    "        layers.Flatten(),\n",
    "        layers.Dense(16, activation='relu'),\n",
    "        layers.Dense(10)\n",
    "    ])\n",
    "    return model"
   ]
  },
  {
   "cell_type": "code",
   "execution_count": 10,
   "metadata": {},
   "outputs": [],
   "source": [
    "student_model = create_student_model()"
   ]
  },
  {
   "cell_type": "code",
   "execution_count": 11,
   "metadata": {},
   "outputs": [
    {
     "name": "stdout",
     "output_type": "stream",
     "text": [
      "Model: \"sequential_1\"\n",
      "_________________________________________________________________\n",
      " Layer (type)                Output Shape              Param #   \n",
      "=================================================================\n",
      " conv2d_2 (Conv2D)           (None, 26, 26, 8)         80        \n",
      "                                                                 \n",
      " max_pooling2d_2 (MaxPoolin  (None, 13, 13, 8)         0         \n",
      " g2D)                                                            \n",
      "                                                                 \n",
      " flatten_1 (Flatten)         (None, 1352)              0         \n",
      "                                                                 \n",
      " dense_2 (Dense)             (None, 16)                21648     \n",
      "                                                                 \n",
      " dense_3 (Dense)             (None, 10)                170       \n",
      "                                                                 \n",
      "=================================================================\n",
      "Total params: 21898 (85.54 KB)\n",
      "Trainable params: 21898 (85.54 KB)\n",
      "Non-trainable params: 0 (0.00 Byte)\n",
      "_________________________________________________________________\n"
     ]
    }
   ],
   "source": [
    "student_model.summary()"
   ]
  },
  {
   "cell_type": "markdown",
   "metadata": {},
   "source": [
    "## 6. Compile the teacher model"
   ]
  },
  {
   "cell_type": "code",
   "execution_count": 12,
   "metadata": {},
   "outputs": [
    {
     "name": "stdout",
     "output_type": "stream",
     "text": [
      "WARNING:tensorflow:From c:\\Python39\\lib\\site-packages\\keras\\src\\optimizers\\__init__.py:309: The name tf.train.Optimizer is deprecated. Please use tf.compat.v1.train.Optimizer instead.\n",
      "\n"
     ]
    }
   ],
   "source": [
    "teacher_model.compile(optimizer='adam', loss=tf.keras.losses.SparseCategoricalCrossentropy(from_logits=True), metrics=['accuracy'])"
   ]
  },
  {
   "cell_type": "markdown",
   "metadata": {},
   "source": [
    "## 7. Training teacher model"
   ]
  },
  {
   "cell_type": "code",
   "execution_count": 13,
   "metadata": {},
   "outputs": [
    {
     "name": "stdout",
     "output_type": "stream",
     "text": [
      "Epoch 1/50\n",
      "WARNING:tensorflow:From c:\\Python39\\lib\\site-packages\\keras\\src\\utils\\tf_utils.py:492: The name tf.ragged.RaggedTensorValue is deprecated. Please use tf.compat.v1.ragged.RaggedTensorValue instead.\n",
      "\n",
      "WARNING:tensorflow:From c:\\Python39\\lib\\site-packages\\keras\\src\\engine\\base_layer_utils.py:384: The name tf.executing_eagerly_outside_functions is deprecated. Please use tf.compat.v1.executing_eagerly_outside_functions instead.\n",
      "\n",
      "1875/1875 [==============================] - 15s 8ms/step - loss: 0.1300 - accuracy: 0.9606 - val_loss: 0.0433 - val_accuracy: 0.9858\n",
      "Epoch 2/50\n",
      "1875/1875 [==============================] - 16s 9ms/step - loss: 0.0423 - accuracy: 0.9864 - val_loss: 0.0380 - val_accuracy: 0.9877\n",
      "Epoch 3/50\n",
      "1875/1875 [==============================] - 16s 8ms/step - loss: 0.0285 - accuracy: 0.9905 - val_loss: 0.0334 - val_accuracy: 0.9890\n",
      "Epoch 4/50\n",
      "1875/1875 [==============================] - 16s 8ms/step - loss: 0.0211 - accuracy: 0.9934 - val_loss: 0.0283 - val_accuracy: 0.9900\n",
      "Epoch 5/50\n",
      "1875/1875 [==============================] - 14s 7ms/step - loss: 0.0152 - accuracy: 0.9949 - val_loss: 0.0309 - val_accuracy: 0.9905\n",
      "Epoch 6/50\n",
      "1875/1875 [==============================] - 13s 7ms/step - loss: 0.0124 - accuracy: 0.9961 - val_loss: 0.0355 - val_accuracy: 0.9899\n",
      "Epoch 7/50\n",
      "1875/1875 [==============================] - 14s 7ms/step - loss: 0.0095 - accuracy: 0.9969 - val_loss: 0.0368 - val_accuracy: 0.9903\n",
      "Epoch 8/50\n",
      "1875/1875 [==============================] - 14s 8ms/step - loss: 0.0083 - accuracy: 0.9975 - val_loss: 0.0467 - val_accuracy: 0.9885\n",
      "Epoch 9/50\n",
      "1875/1875 [==============================] - 15s 8ms/step - loss: 0.0071 - accuracy: 0.9976 - val_loss: 0.0417 - val_accuracy: 0.9908\n",
      "Epoch 10/50\n",
      "1875/1875 [==============================] - 15s 8ms/step - loss: 0.0063 - accuracy: 0.9976 - val_loss: 0.0352 - val_accuracy: 0.9913\n",
      "Epoch 11/50\n",
      "1875/1875 [==============================] - 17s 9ms/step - loss: 0.0056 - accuracy: 0.9982 - val_loss: 0.0477 - val_accuracy: 0.9895\n",
      "Epoch 12/50\n",
      "1875/1875 [==============================] - 17s 9ms/step - loss: 0.0065 - accuracy: 0.9979 - val_loss: 0.0462 - val_accuracy: 0.9910\n",
      "Epoch 13/50\n",
      "1875/1875 [==============================] - 16s 9ms/step - loss: 0.0049 - accuracy: 0.9983 - val_loss: 0.0385 - val_accuracy: 0.9915\n",
      "Epoch 14/50\n",
      "1875/1875 [==============================] - 15s 8ms/step - loss: 0.0034 - accuracy: 0.9988 - val_loss: 0.0555 - val_accuracy: 0.9893\n",
      "Epoch 15/50\n",
      "1875/1875 [==============================] - 16s 9ms/step - loss: 0.0048 - accuracy: 0.9986 - val_loss: 0.0522 - val_accuracy: 0.9901\n",
      "Epoch 16/50\n",
      "1875/1875 [==============================] - 16s 8ms/step - loss: 0.0042 - accuracy: 0.9985 - val_loss: 0.0505 - val_accuracy: 0.9905\n",
      "Epoch 17/50\n",
      "1875/1875 [==============================] - 15s 8ms/step - loss: 0.0033 - accuracy: 0.9989 - val_loss: 0.0384 - val_accuracy: 0.9922\n",
      "Epoch 18/50\n",
      "1875/1875 [==============================] - 14s 8ms/step - loss: 0.0029 - accuracy: 0.9991 - val_loss: 0.0457 - val_accuracy: 0.9926\n",
      "Epoch 19/50\n",
      "1875/1875 [==============================] - 15s 8ms/step - loss: 0.0044 - accuracy: 0.9984 - val_loss: 0.0468 - val_accuracy: 0.9916\n",
      "Epoch 20/50\n",
      "1875/1875 [==============================] - 15s 8ms/step - loss: 0.0026 - accuracy: 0.9994 - val_loss: 0.0665 - val_accuracy: 0.9898\n",
      "Epoch 21/50\n",
      "1875/1875 [==============================] - 17s 9ms/step - loss: 0.0034 - accuracy: 0.9989 - val_loss: 0.0482 - val_accuracy: 0.9928\n",
      "Epoch 22/50\n",
      "1875/1875 [==============================] - 17s 9ms/step - loss: 0.0035 - accuracy: 0.9989 - val_loss: 0.0603 - val_accuracy: 0.9905\n",
      "Epoch 23/50\n",
      "1875/1875 [==============================] - 16s 9ms/step - loss: 0.0021 - accuracy: 0.9993 - val_loss: 0.0518 - val_accuracy: 0.9928\n",
      "Epoch 24/50\n",
      "1875/1875 [==============================] - 15s 8ms/step - loss: 0.0030 - accuracy: 0.9992 - val_loss: 0.0503 - val_accuracy: 0.9918\n",
      "Epoch 25/50\n",
      "1875/1875 [==============================] - 16s 9ms/step - loss: 0.0021 - accuracy: 0.9993 - val_loss: 0.0632 - val_accuracy: 0.9915\n",
      "Epoch 26/50\n",
      "1875/1875 [==============================] - 17s 9ms/step - loss: 0.0029 - accuracy: 0.9992 - val_loss: 0.0603 - val_accuracy: 0.9916\n",
      "Epoch 27/50\n",
      "1875/1875 [==============================] - 17s 9ms/step - loss: 0.0031 - accuracy: 0.9991 - val_loss: 0.0492 - val_accuracy: 0.9920\n",
      "Epoch 28/50\n",
      "1875/1875 [==============================] - 16s 9ms/step - loss: 0.0023 - accuracy: 0.9993 - val_loss: 0.0553 - val_accuracy: 0.9930\n",
      "Epoch 29/50\n",
      "1875/1875 [==============================] - 14s 8ms/step - loss: 0.0020 - accuracy: 0.9994 - val_loss: 0.0665 - val_accuracy: 0.9922\n",
      "Epoch 30/50\n",
      "1875/1875 [==============================] - 14s 8ms/step - loss: 0.0034 - accuracy: 0.9991 - val_loss: 0.0643 - val_accuracy: 0.9906\n",
      "Epoch 31/50\n",
      "1875/1875 [==============================] - 14s 8ms/step - loss: 0.0015 - accuracy: 0.9996 - val_loss: 0.0665 - val_accuracy: 0.9914\n",
      "Epoch 32/50\n",
      "1875/1875 [==============================] - 15s 8ms/step - loss: 0.0034 - accuracy: 0.9991 - val_loss: 0.0874 - val_accuracy: 0.9900\n",
      "Epoch 33/50\n",
      "1875/1875 [==============================] - 18s 9ms/step - loss: 0.0031 - accuracy: 0.9991 - val_loss: 0.0600 - val_accuracy: 0.9923\n",
      "Epoch 34/50\n",
      "1875/1875 [==============================] - 16s 8ms/step - loss: 0.0020 - accuracy: 0.9994 - val_loss: 0.0733 - val_accuracy: 0.9910\n",
      "Epoch 35/50\n",
      "1875/1875 [==============================] - 16s 8ms/step - loss: 0.0024 - accuracy: 0.9995 - val_loss: 0.0727 - val_accuracy: 0.9909\n",
      "Epoch 36/50\n",
      "1875/1875 [==============================] - 16s 8ms/step - loss: 0.0021 - accuracy: 0.9995 - val_loss: 0.0697 - val_accuracy: 0.9921\n",
      "Epoch 37/50\n",
      "1875/1875 [==============================] - 15s 8ms/step - loss: 0.0020 - accuracy: 0.9996 - val_loss: 0.0691 - val_accuracy: 0.9914\n",
      "Epoch 38/50\n",
      "1875/1875 [==============================] - 16s 8ms/step - loss: 0.0036 - accuracy: 0.9991 - val_loss: 0.0706 - val_accuracy: 0.9916\n",
      "Epoch 39/50\n",
      "1875/1875 [==============================] - 16s 8ms/step - loss: 0.0023 - accuracy: 0.9994 - val_loss: 0.0746 - val_accuracy: 0.9914\n",
      "Epoch 40/50\n",
      "1875/1875 [==============================] - 16s 8ms/step - loss: 0.0013 - accuracy: 0.9996 - val_loss: 0.0939 - val_accuracy: 0.9904\n",
      "Epoch 41/50\n",
      "1875/1875 [==============================] - 15s 8ms/step - loss: 0.0027 - accuracy: 0.9993 - val_loss: 0.0829 - val_accuracy: 0.9914\n",
      "Epoch 42/50\n",
      "1875/1875 [==============================] - 14s 8ms/step - loss: 0.0011 - accuracy: 0.9996 - val_loss: 0.0759 - val_accuracy: 0.9920\n",
      "Epoch 43/50\n",
      "1875/1875 [==============================] - 15s 8ms/step - loss: 0.0030 - accuracy: 0.9993 - val_loss: 0.0950 - val_accuracy: 0.9910\n",
      "Epoch 44/50\n",
      "1875/1875 [==============================] - 14s 8ms/step - loss: 0.0020 - accuracy: 0.9995 - val_loss: 0.0777 - val_accuracy: 0.9916\n",
      "Epoch 45/50\n",
      "1875/1875 [==============================] - 17s 9ms/step - loss: 0.0019 - accuracy: 0.9995 - val_loss: 0.0716 - val_accuracy: 0.9925\n",
      "Epoch 46/50\n",
      "1875/1875 [==============================] - 15s 8ms/step - loss: 0.0022 - accuracy: 0.9994 - val_loss: 0.0830 - val_accuracy: 0.9927\n",
      "Epoch 47/50\n",
      "1875/1875 [==============================] - 15s 8ms/step - loss: 0.0020 - accuracy: 0.9995 - val_loss: 0.0923 - val_accuracy: 0.9921\n",
      "Epoch 48/50\n",
      "1875/1875 [==============================] - 14s 8ms/step - loss: 0.0023 - accuracy: 0.9994 - val_loss: 0.1008 - val_accuracy: 0.9908\n",
      "Epoch 49/50\n",
      "1875/1875 [==============================] - 16s 9ms/step - loss: 0.0015 - accuracy: 0.9995 - val_loss: 0.0847 - val_accuracy: 0.9925\n",
      "Epoch 50/50\n",
      "1875/1875 [==============================] - 17s 9ms/step - loss: 0.0016 - accuracy: 0.9996 - val_loss: 0.1089 - val_accuracy: 0.9904\n"
     ]
    }
   ],
   "source": [
    "history = teacher_model.fit(train_images, train_labels, epochs=50, validation_data=(test_images, test_labels))"
   ]
  },
  {
   "cell_type": "code",
   "execution_count": 14,
   "metadata": {},
   "outputs": [],
   "source": [
    "teacher_model.save('.\\models\\\\teacher_model.keras')"
   ]
  },
  {
   "cell_type": "code",
   "execution_count": 15,
   "metadata": {},
   "outputs": [
    {
     "data": {
      "image/png": "[encoded data removed]",
      "text/plain": [
       "<Figure size 432x288 with 1 Axes>"
      ]
     },
     "metadata": {
      "needs_background": "light"
     },
     "output_type": "display_data"
    }
   ],
   "source": [
    "loss = history.history['loss']\n",
    "val_loss = history.history['val_loss']\n",
    "epochs = range(1, len(loss) + 1)\n",
    "plt.plot(epochs, loss, 'r.', label='Training loss')\n",
    "plt.plot(epochs, val_loss, 'y', label='Validation loss')\n",
    "plt.title('Training and validation loss')\n",
    "plt.xlabel('Epochs')\n",
    "plt.ylabel('Loss')\n",
    "plt.grid()\n",
    "plt.legend()\n",
    "plt.savefig('.\\\\figures\\\\history_teacher_model.png', dpi=300, bbox_inches='tight')\n",
    "plt.show()"
   ]
  },
  {
   "cell_type": "markdown",
   "metadata": {},
   "source": [
    "## 8. Distillation"
   ]
  },
  {
   "cell_type": "code",
   "execution_count": 16,
   "metadata": {},
   "outputs": [],
   "source": [
    "def distillation_loss(student_logits, teacher_logits, temperature):\n",
    "    teacher_probs = tf.nn.softmax(teacher_logits / temperature)\n",
    "    student_probs = tf.nn.softmax(student_logits / temperature)\n",
    "    return tf.reduce_mean(tf.keras.losses.categorical_crossentropy(teacher_probs, student_probs))\n"
   ]
  },
  {
   "cell_type": "code",
   "execution_count": 17,
   "metadata": {},
   "outputs": [],
   "source": [
    "def train_student_with_distillation(student_model, teacher_model, train_images, train_labels, temperature, alpha, epochs):\n",
    "    optimizer = tf.keras.optimizers.Adam()\n",
    "    for epoch in range(epochs):\n",
    "        epoch_loss_clf = 0.0  # Track classification loss\n",
    "        epoch_loss_distill = 0.0  # Track distillation loss\n",
    "        total_batches = 6000#len(train_images)\n",
    "        \n",
    "        for i in range(total_batches):\n",
    "            with tf.GradientTape() as tape:\n",
    "                student_logits = student_model(tf.expand_dims(train_images[i], 0))\n",
    "                teacher_logits = teacher_model(tf.expand_dims(train_images[i], 0))\n",
    "\n",
    "                # Classification loss (student vs true labels)\n",
    "                loss_clf = tf.keras.losses.sparse_categorical_crossentropy(train_labels[i], student_logits, from_logits=True)\n",
    "\n",
    "                # Distillation loss (student vs teacher predictions)\n",
    "                loss_distill = distillation_loss(student_logits, teacher_logits, temperature)\n",
    "\n",
    "                # Combine the two losses\n",
    "                loss = alpha * loss_clf + (1 - alpha) * loss_distill\n",
    "\n",
    "            gradients = tape.gradient(loss, student_model.trainable_variables)\n",
    "            optimizer.apply_gradients(zip(gradients, student_model.trainable_variables))\n",
    "\n",
    "            # Accumulate losses for the epoch (reduce_mean to ensure scalar values)\n",
    "            epoch_loss_clf += tf.reduce_mean(loss_clf)\n",
    "            epoch_loss_distill += tf.reduce_mean(loss_distill)\n",
    "\n",
    "        # Calculate average losses for the epoch\n",
    "        avg_loss_clf = epoch_loss_clf / total_batches\n",
    "        avg_loss_distill = epoch_loss_distill / total_batches\n",
    "\n",
    "        # Print the average losses for this epoch\n",
    "        print(f\"Epoch {epoch+1}/{epochs}, Classification Loss: {avg_loss_clf:.4f}, Distillation Loss: {avg_loss_distill:.4f}\")\n"
   ]
  },
  {
   "cell_type": "code",
   "execution_count": 18,
   "metadata": {},
   "outputs": [],
   "source": [
    "temperature = 5.0  # Temperature to smooth teacher's predictions\n",
    "alpha = 0.1  # Balance between distillation and classification losses"
   ]
  },
  {
   "cell_type": "code",
   "execution_count": 19,
   "metadata": {},
   "outputs": [
    {
     "name": "stdout",
     "output_type": "stream",
     "text": [
      "Epoch 1/5, Classification Loss: 1.1301, Distillation Loss: 0.6201\n",
      "Epoch 2/5, Classification Loss: 0.8194, Distillation Loss: 0.3574\n",
      "Epoch 3/5, Classification Loss: 0.6509, Distillation Loss: 0.2951\n",
      "Epoch 4/5, Classification Loss: 0.5038, Distillation Loss: 0.2435\n",
      "Epoch 5/5, Classification Loss: 0.3827, Distillation Loss: 0.1970\n"
     ]
    }
   ],
   "source": [
    "train_student_with_distillation(student_model, teacher_model, train_images, train_labels, temperature, alpha, 5)"
   ]
  },
  {
   "cell_type": "markdown",
   "metadata": {},
   "source": [
    "## 9. Compile the student model"
   ]
  },
  {
   "cell_type": "code",
   "execution_count": 20,
   "metadata": {},
   "outputs": [],
   "source": [
    "# Compile the student model\n",
    "student_model.compile(optimizer='adam', \n",
    "                      loss=tf.keras.losses.SparseCategoricalCrossentropy(from_logits=True), \n",
    "                      metrics=['accuracy'])"
   ]
  },
  {
   "cell_type": "markdown",
   "metadata": {},
   "source": [
    "## 10. Model Evaluation"
   ]
  },
  {
   "cell_type": "code",
   "execution_count": 21,
   "metadata": {},
   "outputs": [],
   "source": [
    "# Measure the inference time of the original model\n",
    "def measure_inference_time(model, x_test):\n",
    "    times = []\n",
    "    for _ in range(10):  \n",
    "        start_time = time.time()\n",
    "        model.predict(x_test[:1]) \n",
    "        times.append(time.time() - start_time)\n",
    "    return np.mean(times)"
   ]
  },
  {
   "cell_type": "markdown",
   "metadata": {},
   "source": [
    "### 10.1 Evaluate the teacher model"
   ]
  },
  {
   "cell_type": "code",
   "execution_count": 22,
   "metadata": {},
   "outputs": [
    {
     "name": "stdout",
     "output_type": "stream",
     "text": [
      "313/313 - 1s - loss: 0.1089 - accuracy: 0.9904 - 941ms/epoch - 3ms/step\n",
      "Teacher Model - Loss: 0.1089, Accuracy: 0.9904\n"
     ]
    }
   ],
   "source": [
    "teacher_loss, teacher_accuracy = teacher_model.evaluate(test_images, test_labels, verbose=2)\n",
    "print(f\"Teacher Model - Loss: {teacher_loss:.4f}, Accuracy: {teacher_accuracy:.4f}\")\n"
   ]
  },
  {
   "cell_type": "code",
   "execution_count": 23,
   "metadata": {},
   "outputs": [
    {
     "name": "stdout",
     "output_type": "stream",
     "text": [
      "1/1 [==============================] - 0s 116ms/step\n",
      "1/1 [==============================] - 0s 25ms/step\n",
      "1/1 [==============================] - 0s 26ms/step\n",
      "1/1 [==============================] - 0s 25ms/step\n",
      "1/1 [==============================] - 0s 24ms/step\n",
      "1/1 [==============================] - 0s 23ms/step\n",
      "1/1 [==============================] - 0s 24ms/step\n",
      "1/1 [==============================] - 0s 26ms/step\n",
      "1/1 [==============================] - 0s 26ms/step\n",
      "1/1 [==============================] - 0s 26ms/step\n",
      "Average inference time of the teacher model: 0.07912769317626953 seconds per sample\n"
     ]
    }
   ],
   "source": [
    "teacher_inference_time = measure_inference_time(teacher_model, test_images)\n",
    "print(f\"Average inference time of the teacher model: {teacher_inference_time} seconds per sample\")"
   ]
  },
  {
   "cell_type": "markdown",
   "metadata": {},
   "source": [
    "### 10.2 Evaluate the student model"
   ]
  },
  {
   "cell_type": "code",
   "execution_count": 24,
   "metadata": {},
   "outputs": [
    {
     "name": "stdout",
     "output_type": "stream",
     "text": [
      "313/313 - 1s - loss: 0.7019 - accuracy: 0.9281 - 763ms/epoch - 2ms/step\n",
      "Student Model - Loss: 0.7019, Accuracy: 0.9281\n"
     ]
    }
   ],
   "source": [
    "student_loss, student_accuracy = student_model.evaluate(test_images, test_labels, verbose=2)\n",
    "print(f\"Student Model - Loss: {student_loss:.4f}, Accuracy: {student_accuracy:.4f}\")"
   ]
  },
  {
   "cell_type": "code",
   "execution_count": 25,
   "metadata": {},
   "outputs": [
    {
     "name": "stdout",
     "output_type": "stream",
     "text": [
      "1/1 [==============================] - 0s 93ms/step\n",
      "1/1 [==============================] - 0s 39ms/step\n",
      "1/1 [==============================] - 0s 29ms/step\n",
      "1/1 [==============================] - 0s 25ms/step\n",
      "1/1 [==============================] - 0s 22ms/step\n",
      "1/1 [==============================] - 0s 24ms/step\n",
      "1/1 [==============================] - 0s 22ms/step\n",
      "1/1 [==============================] - 0s 22ms/step\n",
      "1/1 [==============================] - 0s 25ms/step\n",
      "1/1 [==============================] - 0s 25ms/step\n",
      "Average inference time of the student model: 0.08115952014923096 seconds per sample\n"
     ]
    }
   ],
   "source": [
    "student_inference_time = measure_inference_time(student_model, test_images)\n",
    "print(f\"Average inference time of the student model: {student_inference_time} seconds per sample\")"
   ]
  },
  {
   "cell_type": "markdown",
   "metadata": {},
   "source": [
    "## 11. Obtaining the model to be implemented in the microcontroller"
   ]
  },
  {
   "cell_type": "markdown",
   "metadata": {},
   "source": [
    "### 11.1 Convert some hex value into an array for C programming"
   ]
  },
  {
   "cell_type": "code",
   "execution_count": 26,
   "metadata": {},
   "outputs": [],
   "source": [
    "# Function: Convert some hex value into an array for C programming\n",
    "def hex_to_c_array(hex_data, var_name):\n",
    "\n",
    "  c_str = ''\n",
    "\n",
    "  # Create header guard\n",
    "  c_str += '#ifdef __has_attribute\\n'\n",
    "  c_str += '#define HAVE_ATTRIBUTE(x) __has_attribute(x)\\n'\n",
    "  c_str += '#else\\n'\n",
    "  c_str += '#define HAVE_ATTRIBUTE(x) 0\\n'\n",
    "  c_str += '#endif\\n'\n",
    "  c_str += '#if HAVE_ATTRIBUTE(aligned) || (defined(__GNUC__) && !defined(__clang__))\\n'\n",
    "  c_str += '#define DATA_ALIGN_ATTRIBUTE __attribute__((aligned(4)))\\n'\n",
    "  c_str += '#else\\n'\n",
    "  c_str += '#define DATA_ALIGN_ATTRIBUTE\\n'\n",
    "  c_str += '#endif\\n\\n'\n",
    "\n",
    "  # Declare C variable\n",
    "  c_str += 'const unsigned char ' + var_name + '[]  DATA_ALIGN_ATTRIBUTE = {'\n",
    "  hex_array = []\n",
    "  for i, val in enumerate(hex_data) :\n",
    "\n",
    "    # Construct string from hex\n",
    "    hex_str = format(val, '#04x')\n",
    "\n",
    "    # Add formatting so each line stays within 80 characters\n",
    "    if (i + 1) < len(hex_data):\n",
    "      hex_str += ','\n",
    "    if (i + 1) % 12 == 0:\n",
    "      hex_str += '\\n '\n",
    "    hex_array.append(hex_str)\n",
    "\n",
    "  # Add closing brace\n",
    "  c_str += '\\n ' + format(' '.join(hex_array)) + '\\n};\\n\\n'\n",
    "\n",
    "  # Close out header guard\n",
    "  c_str += 'const int ' + var_name + '_len = ' + str(len(hex_data)) + ';\\n'\n",
    "\n",
    "  return c_str"
   ]
  },
  {
   "cell_type": "markdown",
   "metadata": {},
   "source": [
    "### 11.2 Convert model to Float32"
   ]
  },
  {
   "cell_type": "code",
   "execution_count": 27,
   "metadata": {},
   "outputs": [],
   "source": [
    "def representative_dataset():\n",
    "    # Yield data in the shape expected by the model\n",
    "    for i in range(len(train_images)):\n",
    "        input_data = np.array([train_images[i]], dtype=np.float32)\n",
    "        yield [input_data]\n",
    "\n",
    "def converter_quantization_model(model, model_name):\n",
    "\n",
    "    # Convert the model to float32\n",
    "    converter_float32 = tf.lite.TFLiteConverter.from_keras_model(model)\n",
    "    converter_float32.optimizations = [tf.lite.Optimize.DEFAULT]\n",
    "    converter_float32.target_spec.supported_types = [tf.float32]\n",
    "    converter_float32.representative_dataset = representative_dataset\n",
    "\n",
    "    # Convert and save float32 model\n",
    "    tflite_model_float32 = converter_float32.convert()\n",
    "    with open(f\".\\models\\{model_name}\" + '_quant_float32' + '.h', 'w') as file:\n",
    "        file.write(hex_to_c_array(tflite_model_float32, f\".\\models\\{model_name}\" + '_quant_float32'))\n",
    "    with open(f\".\\models\\{model_name}\" + '_quant_float32.tflite', 'wb') as f:\n",
    "        f.write(tflite_model_float32)\n",
    "\n",
    "    # Get sizes\n",
    "    size_model_tflite_float32 = os.path.getsize(f\".\\models\\{model_name}\" + '_quant_float32.tflite')\n",
    "    size_model_h_float32 = os.path.getsize(f\".\\models\\{model_name}\" + '_quant_float32.h')\n",
    "    print(f\".\\models\\{model_name}\" + f'_quant_float32.tflite: {size_model_tflite_float32} Bytes')\n",
    "    print(f\".\\models\\{model_name}\" + f'_quant_float32.h: {size_model_h_float32} Bytes')\n",
    "\n",
    "    \n",
    "    return size_model_tflite_float32, size_model_h_float32\n"
   ]
  },
  {
   "cell_type": "markdown",
   "metadata": {},
   "source": [
    "## 12. Quantized Knowledge Distillation Model Evaluation"
   ]
  },
  {
   "cell_type": "code",
   "execution_count": 28,
   "metadata": {},
   "outputs": [],
   "source": [
    "def evaluate_quantization(model_path, X_test, y_test, quantization_type):\n",
    "    interpreter = tf.lite.Interpreter(model_path=model_path)\n",
    "    interpreter.allocate_tensors()\n",
    "\n",
    "    # Avaliar o modelo quantizado\n",
    "    input_index = interpreter.get_input_details()[0]['index']\n",
    "    output_index = interpreter.get_output_details()[0]['index']\n",
    "    predictions = []\n",
    "    processing_times = []\n",
    "\n",
    "    X_test = np.array(X_test, dtype=np.float32)\n",
    "    \n",
    "    for X in X_test:\n",
    "        interpreter.set_tensor(input_index, [X])       \n",
    "        start_time = time.time()\n",
    "        interpreter.invoke()\n",
    "        end_time = time.time()\n",
    "        processing_time = end_time - start_time\n",
    "        processing_times.append(processing_time)\n",
    "        output = interpreter.get_tensor(output_index).argmax(axis=1)\n",
    "        predictions.append(output[0])\n",
    "\n",
    "    acc = accuracy_score(y_test, predictions)\n",
    "\n",
    "\n",
    "    return acc, processing_time"
   ]
  },
  {
   "cell_type": "code",
   "execution_count": 29,
   "metadata": {},
   "outputs": [],
   "source": [
    "models_list_name = ['student_model', 'teacher_model']\n",
    "models_list = [student_model, teacher_model]"
   ]
  },
  {
   "cell_type": "code",
   "execution_count": 35,
   "metadata": {},
   "outputs": [
    {
     "name": "stdout",
     "output_type": "stream",
     "text": [
      "INFO:tensorflow:Assets written to: C:\\Users\\Thommas\\AppData\\Local\\Temp\\tmpijmhgjx6\\assets\n"
     ]
    },
    {
     "name": "stderr",
     "output_type": "stream",
     "text": [
      "INFO:tensorflow:Assets written to: C:\\Users\\Thommas\\AppData\\Local\\Temp\\tmpijmhgjx6\\assets\n"
     ]
    },
    {
     "name": "stdout",
     "output_type": "stream",
     "text": [
      ".\\models\\student_model_quant_float32.tflite: 90164 Bytes\n",
      ".\\models\\student_model_quant_float32.h: 563971 Bytes\n",
      "INFO:tensorflow:Assets written to: C:\\Users\\Thommas\\AppData\\Local\\Temp\\tmp4v2fx60f\\assets\n"
     ]
    },
    {
     "name": "stderr",
     "output_type": "stream",
     "text": [
      "INFO:tensorflow:Assets written to: C:\\Users\\Thommas\\AppData\\Local\\Temp\\tmp4v2fx60f\\assets\n"
     ]
    },
    {
     "name": "stdout",
     "output_type": "stream",
     "text": [
      ".\\models\\teacher_model_quant_float32.tflite: 903328 Bytes\n",
      ".\\models\\teacher_model_quant_float32.h: 5646248 Bytes\n"
     ]
    }
   ],
   "source": [
    "# Lists to hold sizes\n",
    "sizes_float32 = []\n",
    "\n",
    "# Loop through each model to get the sizes\n",
    "for i in range(len(models_list)):\n",
    "    size_model_tflite_float32, size_model_h_float32 = converter_quantization_model(models_list[i], models_list_name[i])\n",
    "    sizes_float32.append(size_model_tflite_float32/1024.)  # Append float32 size"
   ]
  },
  {
   "cell_type": "code",
   "execution_count": 38,
   "metadata": {},
   "outputs": [
    {
     "data": {
      "image/png": "[encoded data removed]",
      "text/plain": [
       "<Figure size 864x432 with 1 Axes>"
      ]
     },
     "metadata": {
      "needs_background": "light"
     },
     "output_type": "display_data"
    }
   ],
   "source": [
    "# Define x-axis labels for the models\n",
    "x_labels = models_list_name\n",
    "\n",
    "# Set the width of the bars\n",
    "bar_width = 0.35\n",
    "x = range(len(x_labels))\n",
    "\n",
    "# Create a bar chart for the sizes\n",
    "plt.figure(figsize=(12, 6))\n",
    "plt.bar(x, sizes_float32, width=bar_width,  color='blue', align='center')\n",
    "\n",
    "# Add labels and title\n",
    "plt.xlabel('Models')\n",
    "plt.ylabel('Size (KB)')\n",
    "plt.title('Model Size Comparison')\n",
    "plt.xticks([p + bar_width / 2 for p in x], x_labels)\n",
    "\n",
    "# Show the plot\n",
    "plt.tight_layout()\n",
    "plt.savefig('.\\\\figures\\\\size_KD_comparative.png', dpi=300, bbox_inches='tight')\n",
    "plt.show()"
   ]
  },
  {
   "cell_type": "code",
   "execution_count": 32,
   "metadata": {},
   "outputs": [],
   "source": [
    "\n",
    "acc_float32 = []\n",
    "time_float32 = []\n",
    "\n",
    "# Loop through each model to get the sizes\n",
    "for i in range(len(models_list_name )):\n",
    "    acc, processing_time = evaluate_quantization(f\".\\models\\{models_list_name[i]}\" + '_quant_float32.tflite', test_images, test_labels, 'float32')\n",
    "    acc_float32.append(acc)  # Append float32 size\n",
    "    time_float32.append(processing_time)  # Append int8 size"
   ]
  },
  {
   "cell_type": "code",
   "execution_count": 33,
   "metadata": {},
   "outputs": [
    {
     "data": {
      "image/png": "[encoded data removed]",
      "text/plain": [
       "<Figure size 1008x432 with 2 Axes>"
      ]
     },
     "metadata": {
      "needs_background": "light"
     },
     "output_type": "display_data"
    }
   ],
   "source": [
    "# Plot the accuracy vs. inference time for float32 models\n",
    "fig, ax1 = plt.subplots(figsize=(14, 6))\n",
    "\n",
    "# Plot accuracy\n",
    "ax1.set_xlabel('Model Name')\n",
    "ax1.set_ylabel('Accuracy', color='tab:blue')\n",
    "ax1.bar(models_list_name, acc_float32, color='tab:blue', width=0.4, label='Accuracy')\n",
    "ax1.tick_params(axis='y', labelcolor='tab:blue')\n",
    "\n",
    "# Create a secondary y-axis for inference time\n",
    "ax2 = ax1.twinx()\n",
    "ax2.set_ylabel('Inference Time (ms)', color='tab:red')\n",
    "ax2.plot(models_list_name, time_float32, color='tab:red', marker='o', label='Inference Time')\n",
    "ax2.tick_params(axis='y', labelcolor='tab:red')\n",
    "\n",
    "# Set title\n",
    "plt.title('Accuracy and Inference Time for Float32 Quantized Models')\n",
    "\n",
    "# Show plot\n",
    "plt.tight_layout()\n",
    "plt.savefig('.\\\\figures\\\\acc_quantized_model.png', dpi=300, bbox_inches='tight')\n",
    "plt.show()"
   ]
  }
 ],
 "metadata": {
  "kernelspec": {
   "display_name": "Python 3",
   "language": "python",
   "name": "python3"
  },
  "language_info": {
   "codemirror_mode": {
    "name": "ipython",
    "version": 3
   },
   "file_extension": ".py",
   "mimetype": "text/x-python",
   "name": "python",
   "nbconvert_exporter": "python",
   "pygments_lexer": "ipython3",
   "version": "3.9.6"
  }
 },
 "nbformat": 4,
 "nbformat_minor": 2
}
