{
 "cells": [
  {
   "cell_type": "code",
   "execution_count": 1,
   "metadata": {},
   "outputs": [],
   "source": [
    "#!pip install -r requirements.txt"
   ]
  },
  {
   "cell_type": "code",
   "execution_count": 2,
   "metadata": {},
   "outputs": [
    {
     "name": "stdout",
     "output_type": "stream",
     "text": [
      "WARNING:tensorflow:From c:\\Python39\\lib\\site-packages\\keras\\src\\losses.py:2976: The name tf.losses.sparse_softmax_cross_entropy is deprecated. Please use tf.compat.v1.losses.sparse_softmax_cross_entropy instead.\n",
      "\n"
     ]
    }
   ],
   "source": [
    "import numpy as np\n",
    "from EdgeML.tf.edgeml_tf.graph.bonsai import Bonsai\n",
    "from EdgeML.tf.edgeml_tf.trainer.bonsaiTrainer import BonsaiTrainer\n",
    "import tensorflow as tf"
   ]
  },
  {
   "cell_type": "code",
   "execution_count": 3,
   "metadata": {},
   "outputs": [],
   "source": [
    "# Example dataset\n",
    "X_train = np.random.randn(446, 3)  # Replace with your actual dataset\n",
    "y_train = np.random.randint(0, 2, size=(446, 1))  # Binary labels\n",
    "\n",
    "# Convert the data into TensorFlow tensors\n",
    "X_train = tf.convert_to_tensor(X_train, dtype=tf.float32)\n",
    "y_train = tf.convert_to_tensor(y_train, dtype=tf.float32)\n"
   ]
  },
  {
   "cell_type": "code",
   "execution_count": 4,
   "metadata": {},
   "outputs": [],
   "source": [
    "sigma = 1.0 #Sigmoid parameter for tanh\n",
    "depth = 3 #Depth of Bonsai Tree\n",
    "projectionDimension = 28 #Lower Dimensional space for Bonsai to work on\n",
    "\n",
    "#Regularizers for Bonsai Parameters\n",
    "regZ = 0.0001\n",
    "regW = 0.001\n",
    "regV = 0.001\n",
    "regT = 0.001\n",
    "\n",
    "totalEpochs = 100\n",
    "\n",
    "learningRate = 0.01\n",
    "\n",
    "outFile = None\n",
    "\n",
    "#Sparsity for Bonsai Parameters. x => 100*x % are non-zeros\n",
    "sparZ = 0.2\n",
    "sparW = 0.3\n",
    "sparV = 0.3\n",
    "sparT = 0.62\n",
    "\n",
    "batchSize = np.maximum(100, int(np.ceil(np.sqrt(y_train.shape[0]))))\n",
    "\n",
    "useMCHLoss = True #only for Multiclass cases True: Multiclass-Hing Loss, False: Cross Entropy. \n",
    "\n",
    "numClasses = 2  # Binary classification\n",
    "dataDimension = X_train.shape[1]  # Number of features in your data\n",
    "projDimension = 5  # Dimension for projection, can be tuned\n",
    "depth = 3  # Depth of the decision tree\n",
    "\n"
   ]
  },
  {
   "cell_type": "code",
   "execution_count": 5,
   "metadata": {},
   "outputs": [
    {
     "ename": "AttributeError",
     "evalue": "module 'tensorflow' has no attribute 'InteractiveSession'",
     "output_type": "error",
     "traceback": [
      "\u001b[1;31m---------------------------------------------------------------------------\u001b[0m",
      "\u001b[1;31mAttributeError\u001b[0m                            Traceback (most recent call last)",
      "\u001b[1;32m~\\AppData\\Local\\Temp/ipykernel_32088/2127831054.py\u001b[0m in \u001b[0;36m<module>\u001b[1;34m\u001b[0m\n\u001b[1;32m----> 1\u001b[1;33m \u001b[0msess\u001b[0m \u001b[1;33m=\u001b[0m \u001b[0mtf\u001b[0m\u001b[1;33m.\u001b[0m\u001b[0mInteractiveSession\u001b[0m\u001b[1;33m(\u001b[0m\u001b[1;33m)\u001b[0m\u001b[1;33m\u001b[0m\u001b[1;33m\u001b[0m\u001b[0m\n\u001b[0m\u001b[0;32m      2\u001b[0m \u001b[0msess\u001b[0m\u001b[1;33m.\u001b[0m\u001b[0mrun\u001b[0m\u001b[1;33m(\u001b[0m\u001b[0mtf\u001b[0m\u001b[1;33m.\u001b[0m\u001b[0mglobal_variables_initializer\u001b[0m\u001b[1;33m(\u001b[0m\u001b[1;33m)\u001b[0m\u001b[1;33m)\u001b[0m\u001b[1;33m\u001b[0m\u001b[1;33m\u001b[0m\u001b[0m\n",
      "\u001b[1;31mAttributeError\u001b[0m: module 'tensorflow' has no attribute 'InteractiveSession'"
     ]
    }
   ],
   "source": [
    "sess = tf.InteractiveSession()\n",
    "sess.run(tf.global_variables_initializer())"
   ]
  },
  {
   "cell_type": "code",
   "execution_count": null,
   "metadata": {},
   "outputs": [],
   "source": [
    "# Initialize the Bonsai model\n",
    "bonsaiObj = Bonsai(numClasses, dataDimension, projDimension, depth, sigma)\n",
    "\n",
    "# Initialize the trainer\n",
    "bonsaiTrainer = BonsaiTrainer(bonsaiObj, regW, regT, regV, regZ, sparW, sparT, sparV, sparZ,\n",
    "                              learningRate, X_train, y_train, useMCHLoss, outFile)"
   ]
  },
  {
   "cell_type": "code",
   "execution_count": null,
   "metadata": {},
   "outputs": [],
   "source": [
    "bonsaiTrainer.train(batchSize, totalEpochs, sess,\n",
    "                    X_train, X_train, X_train, X_train)"
   ]
  },
  {
   "cell_type": "code",
   "execution_count": 6,
   "metadata": {},
   "outputs": [
    {
     "data": {
      "image/png": "[encoded data removed]",
      "text/plain": [
       "<Figure size 432x288 with 1 Axes>"
      ]
     },
     "metadata": {
      "needs_background": "light"
     },
     "output_type": "display_data"
    }
   ],
   "source": [
    "# Authors: Manoj Kumar mks542@nyu.edu\n",
    "# License: BSD 3 clause\n",
    "\n",
    "import matplotlib.pyplot as plt\n",
    "import numpy as np\n",
    "\n",
    "from sklearn.datasets import make_regression\n",
    "from sklearn.linear_model import HuberRegressor, Ridge\n",
    "\n",
    "# Generate toy data.\n",
    "rng = np.random.RandomState(0)\n",
    "X, y = make_regression(\n",
    "    n_samples=20, n_features=1, random_state=0, noise=4.0, bias=100.0\n",
    ")\n",
    "\n",
    "# Add four strong outliers to the dataset.\n",
    "X_outliers = rng.normal(0, 0.5, size=(4, 1))\n",
    "y_outliers = rng.normal(0, 2.0, size=4)\n",
    "X_outliers[:2, :] += X.max() + X.mean() / 4.0\n",
    "X_outliers[2:, :] += X.min() - X.mean() / 4.0\n",
    "y_outliers[:2] += y.min() - y.mean() / 4.0\n",
    "y_outliers[2:] += y.max() + y.mean() / 4.0\n",
    "X = np.vstack((X, X_outliers))\n",
    "y = np.concatenate((y, y_outliers))\n",
    "plt.plot(X, y, \"b.\")\n",
    "\n",
    "# Fit the huber regressor over a series of epsilon values.\n",
    "colors = [\"r-\", \"b-\", \"y-\", \"m-\"]\n",
    "\n",
    "x = np.linspace(X.min(), X.max(), 7)\n",
    "epsilon_values = [1, 1.5, 1.75, 1.9]\n",
    "for k, epsilon in enumerate(epsilon_values):\n",
    "    huber = HuberRegressor(alpha=0.0, epsilon=epsilon)\n",
    "    huber.fit(X, y)\n",
    "    coef_ = huber.coef_ * x + huber.intercept_\n",
    "    plt.plot(x, coef_, colors[k], label=\"huber loss, %s\" % epsilon)\n",
    "\n",
    "# Fit a ridge regressor to compare it to huber regressor.\n",
    "ridge = Ridge(alpha=0.0, random_state=0)\n",
    "ridge.fit(X, y)\n",
    "coef_ridge = ridge.coef_\n",
    "coef_ = ridge.coef_ * x + ridge.intercept_\n",
    "plt.plot(x, coef_, \"g-\", label=\"ridge regression\")\n",
    "\n",
    "plt.title(\"Comparison of HuberRegressor vs Ridge\")\n",
    "plt.xlabel(\"X\")\n",
    "plt.ylabel(\"y\")\n",
    "plt.legend(loc=0)\n",
    "plt.show()"
   ]
  },
  {
   "cell_type": "code",
   "execution_count": 8,
   "metadata": {},
   "outputs": [
    {
     "name": "stdout",
     "output_type": "stream",
     "text": [
      "True coefficients: [20.4923687  34.16981149]\n",
      "Huber coefficients: [17.79064252 31.01066091]\n"
     ]
    }
   ],
   "source": [
    "import numpy as np\n",
    "from sklearn.linear_model import HuberRegressor\n",
    "from sklearn.datasets import make_regression\n",
    "rng = np.random.RandomState(0)\n",
    "X, y, coef = make_regression(\n",
    "    n_samples=200, n_features=2, noise=4.0, coef=True, random_state=0)\n",
    "X[:4] = rng.uniform(10, 20, (4, 2))\n",
    "y[:4] = rng.uniform(10, 20, 4)\n",
    "huber = HuberRegressor().fit(X, y)\n",
    "huber.score(X, y)\n",
    "huber.predict(X[:1,])\n",
    "\n",
    "print(\"True coefficients:\", coef)\n",
    "print(\"Huber coefficients:\", huber.coef_)\n"
   ]
  },
  {
   "cell_type": "code",
   "execution_count": 10,
   "metadata": {},
   "outputs": [
    {
     "name": "stdout",
     "output_type": "stream",
     "text": [
      "// Coefficients from the trained model\n",
      "float coefficients[] = {17.79064252060616, 31.010660912432478};\n",
      "float intercept = -0.7154312893732782;\n",
      "\n",
      "float predict(float features[], int num_features) {\n",
      "    float result = intercept;\n",
      "    for (int i = 0; i < num_features; i++) {\n",
      "        result += coefficients[i] * features[i];\n",
      "    }\n",
      "    return result;\n",
      "}\n",
      "    \n"
     ]
    }
   ],
   "source": [
    "def generate_cpp_code(coefficients, intercept, num_features):\n",
    "    \"\"\"\n",
    "    Generates C++ code from model coefficients and intercept.\n",
    "    \n",
    "    Parameters:\n",
    "    coefficients (list or array): List of model coefficients\n",
    "    intercept (float): Model intercept\n",
    "    num_features (int): Number of features in the model\n",
    "    \"\"\"\n",
    "    cpp_code = []\n",
    "\n",
    "    # Add C++ code for coefficients array\n",
    "    cpp_code.append(\"// Coefficients from the trained model\")\n",
    "    cpp_code.append(f\"float coefficients[] = {{{', '.join(map(str, coefficients))}}};\")\n",
    "\n",
    "    # Add C++ code for intercept\n",
    "    cpp_code.append(f\"float intercept = {intercept};\")\n",
    "\n",
    "    # Add C++ function for prediction\n",
    "    cpp_code.append(\"\"\"\n",
    "float predict(float features[], int num_features) {\n",
    "    float result = intercept;\n",
    "    for (int i = 0; i < num_features; i++) {\n",
    "        result += coefficients[i] * features[i];\n",
    "    }\n",
    "    return result;\n",
    "}\n",
    "    \"\"\")\n",
    "\n",
    "\n",
    "\n",
    "    # Join everything into one code block\n",
    "    return '\\n'.join(cpp_code)\n",
    "\n",
    "\n",
    "# Example usage:\n",
    "coefficients =  huber.coef_  # Example coefficients\n",
    "intercept = huber.intercept_  # Example intercept\n",
    "num_features = len(coefficients)\n",
    "\n",
    "cpp_code = generate_cpp_code(coefficients, intercept, num_features)\n",
    "\n",
    "# Save the generated C++ code to a file or print it\n",
    "with open(\"generated_model_code.cpp\", \"w\") as f:\n",
    "    f.write(cpp_code)\n",
    "\n",
    "print(cpp_code)\n"
   ]
  },
  {
   "cell_type": "code",
   "execution_count": null,
   "metadata": {},
   "outputs": [],
   "source": [
    "    # Add example setup function\n",
    "    cpp_code.append(f\"\"\"\n",
    "void setup() {{\n",
    "    Serial.begin(115200);\n",
    "\n",
    "    // Sample input features\n",
    "    float sample_input[{num_features}] = {{/* Replace with actual input values */}};\n",
    "    \n",
    "    // Predict using the model\n",
    "    float prediction = predict(sample_input, {num_features});\n",
    "\n",
    "    Serial.print(\"Predicted value: \");\n",
    "    Serial.println(prediction);\n",
    "}}\n",
    "\n",
    "void loop() {{\n",
    "    // Do nothing in loop\n",
    "}}\n",
    "    \"\"\")"
   ]
  }
 ],
 "metadata": {
  "kernelspec": {
   "display_name": "Python 3",
   "language": "python",
   "name": "python3"
  },
  "language_info": {
   "codemirror_mode": {
    "name": "ipython",
    "version": 3
   },
   "file_extension": ".py",
   "mimetype": "text/x-python",
   "name": "python",
   "nbconvert_exporter": "python",
   "pygments_lexer": "ipython3",
   "version": "3.9.6"
  }
 },
 "nbformat": 4,
 "nbformat_minor": 2
}
